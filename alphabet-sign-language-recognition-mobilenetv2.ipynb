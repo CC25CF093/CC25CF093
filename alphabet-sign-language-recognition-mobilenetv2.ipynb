{
 "cells": [
  {
   "cell_type": "code",
   "execution_count": 1,
   "id": "5c1f5249",
   "metadata": {
    "execution": {
     "iopub.execute_input": "2025-05-24T05:44:26.111113Z",
     "iopub.status.busy": "2025-05-24T05:44:26.110788Z",
     "iopub.status.idle": "2025-05-24T05:44:26.118301Z",
     "shell.execute_reply": "2025-05-24T05:44:26.117460Z"
    },
    "papermill": {
     "duration": 0.014415,
     "end_time": "2025-05-24T05:44:26.119705",
     "exception": false,
     "start_time": "2025-05-24T05:44:26.105290",
     "status": "completed"
    },
    "tags": []
   },
   "outputs": [],
   "source": [
    "import warnings\n",
    "warnings.filterwarnings('ignore')"
   ]
  },
  {
   "cell_type": "code",
   "execution_count": 2,
   "id": "45322367",
   "metadata": {
    "execution": {
     "iopub.execute_input": "2025-05-24T05:44:26.128344Z",
     "iopub.status.busy": "2025-05-24T05:44:26.128054Z",
     "iopub.status.idle": "2025-05-24T05:44:53.787920Z",
     "shell.execute_reply": "2025-05-24T05:44:53.787136Z"
    },
    "papermill": {
     "duration": 27.665743,
     "end_time": "2025-05-24T05:44:53.789516",
     "exception": false,
     "start_time": "2025-05-24T05:44:26.123773",
     "status": "completed"
    },
    "tags": []
   },
   "outputs": [
    {
     "name": "stderr",
     "output_type": "stream",
     "text": [
      "2025-05-24 05:44:31.008163: E external/local_xla/xla/stream_executor/cuda/cuda_fft.cc:477] Unable to register cuFFT factory: Attempting to register factory for plugin cuFFT when one has already been registered\n",
      "WARNING: All log messages before absl::InitializeLog() is called are written to STDERR\n",
      "E0000 00:00:1748065471.508539      19 cuda_dnn.cc:8310] Unable to register cuDNN factory: Attempting to register factory for plugin cuDNN when one has already been registered\n",
      "E0000 00:00:1748065471.626355      19 cuda_blas.cc:1418] Unable to register cuBLAS factory: Attempting to register factory for plugin cuBLAS when one has already been registered\n"
     ]
    }
   ],
   "source": [
    "import os\n",
    "import numpy as np\n",
    "import cv2\n",
    "from tensorflow.keras.models import Sequential\n",
    "from tensorflow.keras.layers import Conv2D, MaxPooling2D, Flatten, Dense, TimeDistributed, LSTM\n",
    "from tensorflow.keras.utils import to_categorical\n",
    "from sklearn.model_selection import train_test_split"
   ]
  },
  {
   "cell_type": "code",
   "execution_count": 3,
   "id": "3c4759d5",
   "metadata": {
    "execution": {
     "iopub.execute_input": "2025-05-24T05:44:53.798782Z",
     "iopub.status.busy": "2025-05-24T05:44:53.798258Z",
     "iopub.status.idle": "2025-05-24T05:44:54.001336Z",
     "shell.execute_reply": "2025-05-24T05:44:54.000408Z"
    },
    "papermill": {
     "duration": 0.209303,
     "end_time": "2025-05-24T05:44:54.003040",
     "exception": false,
     "start_time": "2025-05-24T05:44:53.793737",
     "status": "completed"
    },
    "tags": []
   },
   "outputs": [],
   "source": [
    "import os, shutil\n",
    "import zipfile\n",
    "import random\n",
    "from random import sample\n",
    "from shutil import copyfile\n",
    "import pathlib\n",
    "from pathlib import Path\n",
    "import numpy as np\n",
    "import pandas as pd\n",
    "from tqdm.notebook import tqdm as tq"
   ]
  },
  {
   "cell_type": "code",
   "execution_count": 4,
   "id": "3612f319",
   "metadata": {
    "execution": {
     "iopub.execute_input": "2025-05-24T05:44:54.012234Z",
     "iopub.status.busy": "2025-05-24T05:44:54.011453Z",
     "iopub.status.idle": "2025-05-24T05:44:54.967681Z",
     "shell.execute_reply": "2025-05-24T05:44:54.967071Z"
    },
    "papermill": {
     "duration": 0.962208,
     "end_time": "2025-05-24T05:44:54.969204",
     "exception": false,
     "start_time": "2025-05-24T05:44:54.006996",
     "status": "completed"
    },
    "tags": []
   },
   "outputs": [],
   "source": [
    "import cv2\n",
    "from PIL import Image\n",
    "import skimage\n",
    "from skimage import io\n",
    "from skimage.transform import resize\n",
    "from skimage.transform import rotate, AffineTransform, warp\n",
    "from skimage import img_as_ubyte\n",
    "from skimage.exposure import adjust_gamma\n",
    "from skimage.util import random_noise\n",
    "import matplotlib.pyplot as plt\n",
    "import seaborn as sns"
   ]
  },
  {
   "cell_type": "code",
   "execution_count": 5,
   "id": "fab4be14",
   "metadata": {
    "execution": {
     "iopub.execute_input": "2025-05-24T05:44:54.977648Z",
     "iopub.status.busy": "2025-05-24T05:44:54.977186Z",
     "iopub.status.idle": "2025-05-24T05:44:54.995860Z",
     "shell.execute_reply": "2025-05-24T05:44:54.995330Z"
    },
    "papermill": {
     "duration": 0.024184,
     "end_time": "2025-05-24T05:44:54.997135",
     "exception": false,
     "start_time": "2025-05-24T05:44:54.972951",
     "status": "completed"
    },
    "tags": []
   },
   "outputs": [],
   "source": [
    "import keras\n",
    "from sklearn.model_selection import train_test_split\n",
    "from sklearn.metrics import confusion_matrix, classification_report\n",
    "import tensorflow as tf\n",
    "from tensorflow.keras import Model, layers\n",
    "from tensorflow.keras.preprocessing import image\n",
    "from tensorflow.keras.preprocessing.image import ImageDataGenerator, img_to_array, load_img\n",
    "from tensorflow.keras.optimizers import Adam, RMSprop, SGD\n",
    "from tensorflow.keras.layers import InputLayer, Conv2D, SeparableConv2D, MaxPooling2D, MaxPool2D, Dense, Flatten, Dropout, BatchNormalization\n",
    "from tensorflow.keras.models import Sequential, Model\n",
    "from tensorflow.keras.applications import MobileNet\n",
    "from tensorflow.keras.applications.densenet import DenseNet121\n",
    "from tensorflow.keras.utils import to_categorical\n",
    "from tensorflow.keras.callbacks import ModelCheckpoint, Callback, EarlyStopping, ReduceLROnPlateau\n",
    "from tensorflow.keras import utils\n",
    "from sklearn.utils.class_weight import compute_class_weight"
   ]
  },
  {
   "cell_type": "code",
   "execution_count": 6,
   "id": "98fc3f36",
   "metadata": {
    "execution": {
     "iopub.execute_input": "2025-05-24T05:44:55.005185Z",
     "iopub.status.busy": "2025-05-24T05:44:55.004916Z",
     "iopub.status.idle": "2025-05-24T05:44:55.009396Z",
     "shell.execute_reply": "2025-05-24T05:44:55.008614Z"
    },
    "papermill": {
     "duration": 0.009792,
     "end_time": "2025-05-24T05:44:55.010685",
     "exception": false,
     "start_time": "2025-05-24T05:44:55.000893",
     "status": "completed"
    },
    "tags": []
   },
   "outputs": [],
   "source": [
    "from sklearn.utils.class_weight import compute_class_weight\n",
    "from tensorflow.keras.applications import MobileNetV2\n",
    "from tensorflow.keras.models import Sequential\n",
    "from tensorflow.keras.layers import GlobalAveragePooling2D, Dense, Dropout\n",
    "from tensorflow.keras.optimizers import Adam\n",
    "from tensorflow.keras.callbacks import EarlyStopping, ReduceLROnPlateau, ModelCheckpoint\n",
    "from tensorflow.keras import utils\n",
    "from sklearn.model_selection import train_test_split\n",
    "import numpy as np"
   ]
  },
  {
   "cell_type": "code",
   "execution_count": 7,
   "id": "15eb51c2",
   "metadata": {
    "execution": {
     "iopub.execute_input": "2025-05-24T05:44:55.019054Z",
     "iopub.status.busy": "2025-05-24T05:44:55.018534Z",
     "iopub.status.idle": "2025-05-24T05:44:55.022338Z",
     "shell.execute_reply": "2025-05-24T05:44:55.021488Z"
    },
    "papermill": {
     "duration": 0.009265,
     "end_time": "2025-05-24T05:44:55.023605",
     "exception": false,
     "start_time": "2025-05-24T05:44:55.014340",
     "status": "completed"
    },
    "tags": []
   },
   "outputs": [],
   "source": [
    "train_dir = '../input/asl-alphabet/asl_alphabet_train/asl_alphabet_train'\n",
    "test_dir = '../input/asl-alphabet/asl_alphabet_test/asl_alphabet_test'"
   ]
  },
  {
   "cell_type": "code",
   "execution_count": 8,
   "id": "7088a4a5",
   "metadata": {
    "execution": {
     "iopub.execute_input": "2025-05-24T05:44:55.031575Z",
     "iopub.status.busy": "2025-05-24T05:44:55.030969Z",
     "iopub.status.idle": "2025-05-24T05:58:21.517217Z",
     "shell.execute_reply": "2025-05-24T05:58:21.516323Z"
    },
    "papermill": {
     "duration": 806.49168,
     "end_time": "2025-05-24T05:58:21.518795",
     "exception": false,
     "start_time": "2025-05-24T05:44:55.027115",
     "status": "completed"
    },
    "tags": []
   },
   "outputs": [
    {
     "name": "stdout",
     "output_type": "stream",
     "text": [
      "Obtaining images of N ...\n",
      "Obtaining images of R ...\n",
      "Obtaining images of space ...\n",
      "Obtaining images of B ...\n",
      "Obtaining images of I ...\n",
      "Obtaining images of del ...\n",
      "Obtaining images of F ...\n",
      "Obtaining images of H ...\n",
      "Obtaining images of E ...\n",
      "Obtaining images of U ...\n",
      "Obtaining images of M ...\n",
      "Obtaining images of X ...\n",
      "Obtaining images of K ...\n",
      "Obtaining images of Q ...\n",
      "Obtaining images of Y ...\n",
      "Obtaining images of S ...\n",
      "Obtaining images of G ...\n",
      "Obtaining images of A ...\n",
      "Obtaining images of O ...\n",
      "Obtaining images of T ...\n",
      "Obtaining images of V ...\n",
      "Obtaining images of Z ...\n",
      "Obtaining images of C ...\n",
      "Obtaining images of P ...\n",
      "Obtaining images of L ...\n",
      "Obtaining images of W ...\n",
      "Obtaining images of D ...\n",
      "Obtaining images of nothing ...\n",
      "Obtaining images of J ...\n"
     ]
    }
   ],
   "source": [
    "def get_data(data_dir) :\n",
    "    images = []\n",
    "    labels = []\n",
    "    \n",
    "    dir_list = os.listdir(data_dir)\n",
    "    for i in range(len(dir_list)):\n",
    "        print(\"Obtaining images of\", dir_list[i], \"...\")\n",
    "        for image in os.listdir(data_dir + \"/\" + dir_list[i]):\n",
    "            img = cv2.imread(data_dir + '/' + dir_list[i] + '/' + image)\n",
    "            img = cv2.resize(img, (64, 64))\n",
    "            images.append(img)\n",
    "            labels.append(i)\n",
    "    \n",
    "    return images, labels\n",
    "        \n",
    "X, y = get_data(train_dir)"
   ]
  },
  {
   "cell_type": "code",
   "execution_count": 9,
   "id": "fb70a66f",
   "metadata": {
    "execution": {
     "iopub.execute_input": "2025-05-24T05:58:21.529918Z",
     "iopub.status.busy": "2025-05-24T05:58:21.529425Z",
     "iopub.status.idle": "2025-05-24T05:58:21.533745Z",
     "shell.execute_reply": "2025-05-24T05:58:21.532980Z"
    },
    "papermill": {
     "duration": 0.010964,
     "end_time": "2025-05-24T05:58:21.534964",
     "exception": false,
     "start_time": "2025-05-24T05:58:21.524000",
     "status": "completed"
    },
    "tags": []
   },
   "outputs": [
    {
     "name": "stdout",
     "output_type": "stream",
     "text": [
      "87000 87000\n"
     ]
    }
   ],
   "source": [
    "print(len(X), len(y))"
   ]
  },
  {
   "cell_type": "code",
   "execution_count": 10,
   "id": "7a87916a",
   "metadata": {
    "execution": {
     "iopub.execute_input": "2025-05-24T05:58:21.545091Z",
     "iopub.status.busy": "2025-05-24T05:58:21.544830Z",
     "iopub.status.idle": "2025-05-24T05:58:21.548850Z",
     "shell.execute_reply": "2025-05-24T05:58:21.548115Z"
    },
    "papermill": {
     "duration": 0.010815,
     "end_time": "2025-05-24T05:58:21.550291",
     "exception": false,
     "start_time": "2025-05-24T05:58:21.539476",
     "status": "completed"
    },
    "tags": []
   },
   "outputs": [],
   "source": [
    "classes = ['A', 'B', 'C', 'D', 'E', 'F', 'G', 'H', 'I', 'J', 'K', \n",
    "           'L', 'M', 'N', 'O', 'P', 'Q', 'R', 'S', 'T', 'U', 'V', \n",
    "           'W', 'X', 'Y', 'Z', 'del', 'nothing', 'space']"
   ]
  },
  {
   "cell_type": "code",
   "execution_count": 11,
   "id": "7a11151e",
   "metadata": {
    "execution": {
     "iopub.execute_input": "2025-05-24T05:58:21.560679Z",
     "iopub.status.busy": "2025-05-24T05:58:21.560435Z",
     "iopub.status.idle": "2025-05-24T05:58:25.528901Z",
     "shell.execute_reply": "2025-05-24T05:58:25.528312Z"
    },
    "papermill": {
     "duration": 3.975192,
     "end_time": "2025-05-24T05:58:25.530354",
     "exception": false,
     "start_time": "2025-05-24T05:58:21.555162",
     "status": "completed"
    },
    "tags": []
   },
   "outputs": [],
   "source": [
    "def preprocess_data(X, y):\n",
    "    np_X = np.array(X)\n",
    "    normalised_X = np_X.astype('float32')/255.0\n",
    "    \n",
    "    label_encoded_y = utils.to_categorical(y)\n",
    "    \n",
    "    x_train, x_test, y_train, y_test = train_test_split(normalised_X, label_encoded_y, test_size = 0.2)\n",
    "    \n",
    "    return x_train, x_test, y_train, y_test\n",
    "\n",
    "x_train, x_test, y_train, y_test = preprocess_data(X, y)"
   ]
  },
  {
   "cell_type": "code",
   "execution_count": 12,
   "id": "33a7a394",
   "metadata": {
    "execution": {
     "iopub.execute_input": "2025-05-24T05:58:25.540564Z",
     "iopub.status.busy": "2025-05-24T05:58:25.540332Z",
     "iopub.status.idle": "2025-05-24T05:58:25.544520Z",
     "shell.execute_reply": "2025-05-24T05:58:25.543799Z"
    },
    "papermill": {
     "duration": 0.010387,
     "end_time": "2025-05-24T05:58:25.545626",
     "exception": false,
     "start_time": "2025-05-24T05:58:25.535239",
     "status": "completed"
    },
    "tags": []
   },
   "outputs": [
    {
     "name": "stdout",
     "output_type": "stream",
     "text": [
      "Training data: (69600, 64, 64, 3)\n",
      "Test data: (17400, 64, 64, 3)\n"
     ]
    }
   ],
   "source": [
    "print(\"Training data:\", x_train.shape)\n",
    "print(\"Test data:\", x_test.shape)"
   ]
  },
  {
   "cell_type": "code",
   "execution_count": 13,
   "id": "08700fdb",
   "metadata": {
    "execution": {
     "iopub.execute_input": "2025-05-24T05:58:25.555788Z",
     "iopub.status.busy": "2025-05-24T05:58:25.555583Z",
     "iopub.status.idle": "2025-05-24T05:58:25.579619Z",
     "shell.execute_reply": "2025-05-24T05:58:25.578850Z"
    },
    "papermill": {
     "duration": 0.030533,
     "end_time": "2025-05-24T05:58:25.580930",
     "exception": false,
     "start_time": "2025-05-24T05:58:25.550397",
     "status": "completed"
    },
    "tags": []
   },
   "outputs": [],
   "source": [
    "class_weights = compute_class_weight(\n",
    "    class_weight='balanced',\n",
    "    classes=np.unique(y),\n",
    "    y=y\n",
    ")\n",
    "class_weights = dict(enumerate(class_weights))"
   ]
  },
  {
   "cell_type": "code",
   "execution_count": 14,
   "id": "90180abb",
   "metadata": {
    "execution": {
     "iopub.execute_input": "2025-05-24T05:58:25.592350Z",
     "iopub.status.busy": "2025-05-24T05:58:25.591382Z",
     "iopub.status.idle": "2025-05-24T05:58:33.531174Z",
     "shell.execute_reply": "2025-05-24T05:58:33.530379Z"
    },
    "papermill": {
     "duration": 7.946507,
     "end_time": "2025-05-24T05:58:33.532418",
     "exception": false,
     "start_time": "2025-05-24T05:58:25.585911",
     "status": "completed"
    },
    "tags": []
   },
   "outputs": [
    {
     "name": "stderr",
     "output_type": "stream",
     "text": [
      "I0000 00:00:1748066309.480088      19 gpu_device.cc:2022] Created device /job:localhost/replica:0/task:0/device:GPU:0 with 13942 MB memory:  -> device: 0, name: Tesla T4, pci bus id: 0000:00:04.0, compute capability: 7.5\n",
      "I0000 00:00:1748066309.480916      19 gpu_device.cc:2022] Created device /job:localhost/replica:0/task:0/device:GPU:1 with 13942 MB memory:  -> device: 1, name: Tesla T4, pci bus id: 0000:00:05.0, compute capability: 7.5\n"
     ]
    },
    {
     "name": "stdout",
     "output_type": "stream",
     "text": [
      "Downloading data from https://storage.googleapis.com/tensorflow/keras-applications/mobilenet_v2/mobilenet_v2_weights_tf_dim_ordering_tf_kernels_1.0_224_no_top.h5\n",
      "\u001b[1m9406464/9406464\u001b[0m \u001b[32m━━━━━━━━━━━━━━━━━━━━\u001b[0m\u001b[37m\u001b[0m \u001b[1m0s\u001b[0m 0us/step\n"
     ]
    },
    {
     "data": {
      "text/html": [
       "<pre style=\"white-space:pre;overflow-x:auto;line-height:normal;font-family:Menlo,'DejaVu Sans Mono',consolas,'Courier New',monospace\"><span style=\"font-weight: bold\">Model: \"sequential\"</span>\n",
       "</pre>\n"
      ],
      "text/plain": [
       "\u001b[1mModel: \"sequential\"\u001b[0m\n"
      ]
     },
     "metadata": {},
     "output_type": "display_data"
    },
    {
     "data": {
      "text/html": [
       "<pre style=\"white-space:pre;overflow-x:auto;line-height:normal;font-family:Menlo,'DejaVu Sans Mono',consolas,'Courier New',monospace\">┏━━━━━━━━━━━━━━━━━━━━━━━━━━━━━━━━━━━━━━┳━━━━━━━━━━━━━━━━━━━━━━━━━━━━━┳━━━━━━━━━━━━━━━━━┓\n",
       "┃<span style=\"font-weight: bold\"> Layer (type)                         </span>┃<span style=\"font-weight: bold\"> Output Shape                </span>┃<span style=\"font-weight: bold\">         Param # </span>┃\n",
       "┡━━━━━━━━━━━━━━━━━━━━━━━━━━━━━━━━━━━━━━╇━━━━━━━━━━━━━━━━━━━━━━━━━━━━━╇━━━━━━━━━━━━━━━━━┩\n",
       "│ mobilenetv2_1.00_224 (<span style=\"color: #0087ff; text-decoration-color: #0087ff\">Functional</span>)    │ (<span style=\"color: #00d7ff; text-decoration-color: #00d7ff\">None</span>, <span style=\"color: #00af00; text-decoration-color: #00af00\">2</span>, <span style=\"color: #00af00; text-decoration-color: #00af00\">2</span>, <span style=\"color: #00af00; text-decoration-color: #00af00\">1280</span>)          │       <span style=\"color: #00af00; text-decoration-color: #00af00\">2,257,984</span> │\n",
       "├──────────────────────────────────────┼─────────────────────────────┼─────────────────┤\n",
       "│ global_average_pooling2d             │ (<span style=\"color: #00d7ff; text-decoration-color: #00d7ff\">None</span>, <span style=\"color: #00af00; text-decoration-color: #00af00\">1280</span>)                │               <span style=\"color: #00af00; text-decoration-color: #00af00\">0</span> │\n",
       "│ (<span style=\"color: #0087ff; text-decoration-color: #0087ff\">GlobalAveragePooling2D</span>)             │                             │                 │\n",
       "├──────────────────────────────────────┼─────────────────────────────┼─────────────────┤\n",
       "│ dense (<span style=\"color: #0087ff; text-decoration-color: #0087ff\">Dense</span>)                        │ (<span style=\"color: #00d7ff; text-decoration-color: #00d7ff\">None</span>, <span style=\"color: #00af00; text-decoration-color: #00af00\">512</span>)                 │         <span style=\"color: #00af00; text-decoration-color: #00af00\">655,872</span> │\n",
       "├──────────────────────────────────────┼─────────────────────────────┼─────────────────┤\n",
       "│ dropout (<span style=\"color: #0087ff; text-decoration-color: #0087ff\">Dropout</span>)                    │ (<span style=\"color: #00d7ff; text-decoration-color: #00d7ff\">None</span>, <span style=\"color: #00af00; text-decoration-color: #00af00\">512</span>)                 │               <span style=\"color: #00af00; text-decoration-color: #00af00\">0</span> │\n",
       "├──────────────────────────────────────┼─────────────────────────────┼─────────────────┤\n",
       "│ dense_1 (<span style=\"color: #0087ff; text-decoration-color: #0087ff\">Dense</span>)                      │ (<span style=\"color: #00d7ff; text-decoration-color: #00d7ff\">None</span>, <span style=\"color: #00af00; text-decoration-color: #00af00\">256</span>)                 │         <span style=\"color: #00af00; text-decoration-color: #00af00\">131,328</span> │\n",
       "├──────────────────────────────────────┼─────────────────────────────┼─────────────────┤\n",
       "│ dropout_1 (<span style=\"color: #0087ff; text-decoration-color: #0087ff\">Dropout</span>)                  │ (<span style=\"color: #00d7ff; text-decoration-color: #00d7ff\">None</span>, <span style=\"color: #00af00; text-decoration-color: #00af00\">256</span>)                 │               <span style=\"color: #00af00; text-decoration-color: #00af00\">0</span> │\n",
       "├──────────────────────────────────────┼─────────────────────────────┼─────────────────┤\n",
       "│ dense_2 (<span style=\"color: #0087ff; text-decoration-color: #0087ff\">Dense</span>)                      │ (<span style=\"color: #00d7ff; text-decoration-color: #00d7ff\">None</span>, <span style=\"color: #00af00; text-decoration-color: #00af00\">128</span>)                 │          <span style=\"color: #00af00; text-decoration-color: #00af00\">32,896</span> │\n",
       "├──────────────────────────────────────┼─────────────────────────────┼─────────────────┤\n",
       "│ dense_3 (<span style=\"color: #0087ff; text-decoration-color: #0087ff\">Dense</span>)                      │ (<span style=\"color: #00d7ff; text-decoration-color: #00d7ff\">None</span>, <span style=\"color: #00af00; text-decoration-color: #00af00\">29</span>)                  │           <span style=\"color: #00af00; text-decoration-color: #00af00\">3,741</span> │\n",
       "└──────────────────────────────────────┴─────────────────────────────┴─────────────────┘\n",
       "</pre>\n"
      ],
      "text/plain": [
       "┏━━━━━━━━━━━━━━━━━━━━━━━━━━━━━━━━━━━━━━┳━━━━━━━━━━━━━━━━━━━━━━━━━━━━━┳━━━━━━━━━━━━━━━━━┓\n",
       "┃\u001b[1m \u001b[0m\u001b[1mLayer (type)                        \u001b[0m\u001b[1m \u001b[0m┃\u001b[1m \u001b[0m\u001b[1mOutput Shape               \u001b[0m\u001b[1m \u001b[0m┃\u001b[1m \u001b[0m\u001b[1m        Param #\u001b[0m\u001b[1m \u001b[0m┃\n",
       "┡━━━━━━━━━━━━━━━━━━━━━━━━━━━━━━━━━━━━━━╇━━━━━━━━━━━━━━━━━━━━━━━━━━━━━╇━━━━━━━━━━━━━━━━━┩\n",
       "│ mobilenetv2_1.00_224 (\u001b[38;5;33mFunctional\u001b[0m)    │ (\u001b[38;5;45mNone\u001b[0m, \u001b[38;5;34m2\u001b[0m, \u001b[38;5;34m2\u001b[0m, \u001b[38;5;34m1280\u001b[0m)          │       \u001b[38;5;34m2,257,984\u001b[0m │\n",
       "├──────────────────────────────────────┼─────────────────────────────┼─────────────────┤\n",
       "│ global_average_pooling2d             │ (\u001b[38;5;45mNone\u001b[0m, \u001b[38;5;34m1280\u001b[0m)                │               \u001b[38;5;34m0\u001b[0m │\n",
       "│ (\u001b[38;5;33mGlobalAveragePooling2D\u001b[0m)             │                             │                 │\n",
       "├──────────────────────────────────────┼─────────────────────────────┼─────────────────┤\n",
       "│ dense (\u001b[38;5;33mDense\u001b[0m)                        │ (\u001b[38;5;45mNone\u001b[0m, \u001b[38;5;34m512\u001b[0m)                 │         \u001b[38;5;34m655,872\u001b[0m │\n",
       "├──────────────────────────────────────┼─────────────────────────────┼─────────────────┤\n",
       "│ dropout (\u001b[38;5;33mDropout\u001b[0m)                    │ (\u001b[38;5;45mNone\u001b[0m, \u001b[38;5;34m512\u001b[0m)                 │               \u001b[38;5;34m0\u001b[0m │\n",
       "├──────────────────────────────────────┼─────────────────────────────┼─────────────────┤\n",
       "│ dense_1 (\u001b[38;5;33mDense\u001b[0m)                      │ (\u001b[38;5;45mNone\u001b[0m, \u001b[38;5;34m256\u001b[0m)                 │         \u001b[38;5;34m131,328\u001b[0m │\n",
       "├──────────────────────────────────────┼─────────────────────────────┼─────────────────┤\n",
       "│ dropout_1 (\u001b[38;5;33mDropout\u001b[0m)                  │ (\u001b[38;5;45mNone\u001b[0m, \u001b[38;5;34m256\u001b[0m)                 │               \u001b[38;5;34m0\u001b[0m │\n",
       "├──────────────────────────────────────┼─────────────────────────────┼─────────────────┤\n",
       "│ dense_2 (\u001b[38;5;33mDense\u001b[0m)                      │ (\u001b[38;5;45mNone\u001b[0m, \u001b[38;5;34m128\u001b[0m)                 │          \u001b[38;5;34m32,896\u001b[0m │\n",
       "├──────────────────────────────────────┼─────────────────────────────┼─────────────────┤\n",
       "│ dense_3 (\u001b[38;5;33mDense\u001b[0m)                      │ (\u001b[38;5;45mNone\u001b[0m, \u001b[38;5;34m29\u001b[0m)                  │           \u001b[38;5;34m3,741\u001b[0m │\n",
       "└──────────────────────────────────────┴─────────────────────────────┴─────────────────┘\n"
      ]
     },
     "metadata": {},
     "output_type": "display_data"
    },
    {
     "data": {
      "text/html": [
       "<pre style=\"white-space:pre;overflow-x:auto;line-height:normal;font-family:Menlo,'DejaVu Sans Mono',consolas,'Courier New',monospace\"><span style=\"font-weight: bold\"> Total params: </span><span style=\"color: #00af00; text-decoration-color: #00af00\">3,081,821</span> (11.76 MB)\n",
       "</pre>\n"
      ],
      "text/plain": [
       "\u001b[1m Total params: \u001b[0m\u001b[38;5;34m3,081,821\u001b[0m (11.76 MB)\n"
      ]
     },
     "metadata": {},
     "output_type": "display_data"
    },
    {
     "data": {
      "text/html": [
       "<pre style=\"white-space:pre;overflow-x:auto;line-height:normal;font-family:Menlo,'DejaVu Sans Mono',consolas,'Courier New',monospace\"><span style=\"font-weight: bold\"> Trainable params: </span><span style=\"color: #00af00; text-decoration-color: #00af00\">2,350,237</span> (8.97 MB)\n",
       "</pre>\n"
      ],
      "text/plain": [
       "\u001b[1m Trainable params: \u001b[0m\u001b[38;5;34m2,350,237\u001b[0m (8.97 MB)\n"
      ]
     },
     "metadata": {},
     "output_type": "display_data"
    },
    {
     "data": {
      "text/html": [
       "<pre style=\"white-space:pre;overflow-x:auto;line-height:normal;font-family:Menlo,'DejaVu Sans Mono',consolas,'Courier New',monospace\"><span style=\"font-weight: bold\"> Non-trainable params: </span><span style=\"color: #00af00; text-decoration-color: #00af00\">731,584</span> (2.79 MB)\n",
       "</pre>\n"
      ],
      "text/plain": [
       "\u001b[1m Non-trainable params: \u001b[0m\u001b[38;5;34m731,584\u001b[0m (2.79 MB)\n"
      ]
     },
     "metadata": {},
     "output_type": "display_data"
    }
   ],
   "source": [
    "IMG_SHAPE = (64, 64, 3)\n",
    "base_model = MobileNetV2(input_shape=IMG_SHAPE, include_top=False, weights='imagenet')\n",
    "\n",
    "# Freeze sebagian besar layer\n",
    "for layer in base_model.layers[:-30]:\n",
    "    layer.trainable = False\n",
    "\n",
    "model = Sequential([\n",
    "    base_model,\n",
    "    GlobalAveragePooling2D(),\n",
    "    Dense(512, activation='relu'),\n",
    "    Dropout(0.3),\n",
    "    Dense(256, activation='relu'),\n",
    "    Dropout(0.2),\n",
    "    Dense(128, activation='relu'),\n",
    "    Dense(y_train.shape[1], activation='softmax')  # sesuai jumlah kelas\n",
    "])\n",
    "\n",
    "model.compile(\n",
    "    optimizer=Adam(learning_rate=0.0005),\n",
    "    loss='categorical_crossentropy',\n",
    "    metrics=['accuracy']\n",
    ")\n",
    "\n",
    "model.summary()"
   ]
  },
  {
   "cell_type": "code",
   "execution_count": 15,
   "id": "7735e821",
   "metadata": {
    "execution": {
     "iopub.execute_input": "2025-05-24T05:58:33.545746Z",
     "iopub.status.busy": "2025-05-24T05:58:33.545470Z",
     "iopub.status.idle": "2025-05-24T06:05:17.888606Z",
     "shell.execute_reply": "2025-05-24T06:05:17.887870Z"
    },
    "papermill": {
     "duration": 404.350895,
     "end_time": "2025-05-24T06:05:17.889960",
     "exception": false,
     "start_time": "2025-05-24T05:58:33.539065",
     "status": "completed"
    },
    "tags": []
   },
   "outputs": [
    {
     "name": "stdout",
     "output_type": "stream",
     "text": [
      "Epoch 1/15\n"
     ]
    },
    {
     "name": "stderr",
     "output_type": "stream",
     "text": [
      "WARNING: All log messages before absl::InitializeLog() is called are written to STDERR\n",
      "I0000 00:00:1748066337.337653      61 service.cc:148] XLA service 0x7b94cc014250 initialized for platform CUDA (this does not guarantee that XLA will be used). Devices:\n",
      "I0000 00:00:1748066337.343519      61 service.cc:156]   StreamExecutor device (0): Tesla T4, Compute Capability 7.5\n",
      "I0000 00:00:1748066337.343545      61 service.cc:156]   StreamExecutor device (1): Tesla T4, Compute Capability 7.5\n",
      "I0000 00:00:1748066339.075393      61 cuda_dnn.cc:529] Loaded cuDNN version 90300\n",
      "E0000 00:00:1748066343.152539      61 gpu_timer.cc:82] Delay kernel timed out: measured time has sub-optimal accuracy. There may be a missing warmup execution, please investigate in Nsight Systems.\n",
      "E0000 00:00:1748066343.286592      61 gpu_timer.cc:82] Delay kernel timed out: measured time has sub-optimal accuracy. There may be a missing warmup execution, please investigate in Nsight Systems.\n"
     ]
    },
    {
     "name": "stdout",
     "output_type": "stream",
     "text": [
      "\u001b[1m  12/2175\u001b[0m \u001b[37m━━━━━━━━━━━━━━━━━━━━\u001b[0m \u001b[1m32s\u001b[0m 15ms/step - accuracy: 0.0620 - loss: 3.4826"
     ]
    },
    {
     "name": "stderr",
     "output_type": "stream",
     "text": [
      "I0000 00:00:1748066348.855800      61 device_compiler.h:188] Compiled cluster using XLA!  This line is logged at most once for the lifetime of the process.\n"
     ]
    },
    {
     "name": "stdout",
     "output_type": "stream",
     "text": [
      "\u001b[1m2170/2175\u001b[0m \u001b[32m━━━━━━━━━━━━━━━━━━━\u001b[0m\u001b[37m━\u001b[0m \u001b[1m0s\u001b[0m 9ms/step - accuracy: 0.6983 - loss: 1.0539\n",
      "Epoch 1: val_accuracy improved from -inf to 0.94207, saving model to mobilenet_best_model.h5\n",
      "\u001b[1m2175/2175\u001b[0m \u001b[32m━━━━━━━━━━━━━━━━━━━━\u001b[0m\u001b[37m\u001b[0m \u001b[1m60s\u001b[0m 16ms/step - accuracy: 0.6987 - loss: 1.0524 - val_accuracy: 0.9421 - val_loss: 0.2592 - learning_rate: 5.0000e-04\n",
      "Epoch 2/15\n",
      "\u001b[1m2174/2175\u001b[0m \u001b[32m━━━━━━━━━━━━━━━━━━━\u001b[0m\u001b[37m━\u001b[0m \u001b[1m0s\u001b[0m 9ms/step - accuracy: 0.9486 - loss: 0.1851\n",
      "Epoch 2: val_accuracy improved from 0.94207 to 0.96483, saving model to mobilenet_best_model.h5\n",
      "\u001b[1m2175/2175\u001b[0m \u001b[32m━━━━━━━━━━━━━━━━━━━━\u001b[0m\u001b[37m\u001b[0m \u001b[1m24s\u001b[0m 11ms/step - accuracy: 0.9486 - loss: 0.1851 - val_accuracy: 0.9648 - val_loss: 0.1455 - learning_rate: 5.0000e-04\n",
      "Epoch 3/15\n",
      "\u001b[1m2174/2175\u001b[0m \u001b[32m━━━━━━━━━━━━━━━━━━━\u001b[0m\u001b[37m━\u001b[0m \u001b[1m0s\u001b[0m 9ms/step - accuracy: 0.9638 - loss: 0.1337\n",
      "Epoch 3: val_accuracy improved from 0.96483 to 0.96787, saving model to mobilenet_best_model.h5\n",
      "\u001b[1m2175/2175\u001b[0m \u001b[32m━━━━━━━━━━━━━━━━━━━━\u001b[0m\u001b[37m\u001b[0m \u001b[1m24s\u001b[0m 11ms/step - accuracy: 0.9638 - loss: 0.1337 - val_accuracy: 0.9679 - val_loss: 0.1383 - learning_rate: 5.0000e-04\n",
      "Epoch 4/15\n",
      "\u001b[1m2170/2175\u001b[0m \u001b[32m━━━━━━━━━━━━━━━━━━━\u001b[0m\u001b[37m━\u001b[0m \u001b[1m0s\u001b[0m 9ms/step - accuracy: 0.9717 - loss: 0.1071\n",
      "Epoch 4: val_accuracy improved from 0.96787 to 0.97477, saving model to mobilenet_best_model.h5\n",
      "\u001b[1m2175/2175\u001b[0m \u001b[32m━━━━━━━━━━━━━━━━━━━━\u001b[0m\u001b[37m\u001b[0m \u001b[1m24s\u001b[0m 11ms/step - accuracy: 0.9717 - loss: 0.1071 - val_accuracy: 0.9748 - val_loss: 0.1155 - learning_rate: 5.0000e-04\n",
      "Epoch 5/15\n",
      "\u001b[1m2173/2175\u001b[0m \u001b[32m━━━━━━━━━━━━━━━━━━━\u001b[0m\u001b[37m━\u001b[0m \u001b[1m0s\u001b[0m 9ms/step - accuracy: 0.9795 - loss: 0.0822\n",
      "Epoch 5: val_accuracy improved from 0.97477 to 0.98724, saving model to mobilenet_best_model.h5\n",
      "\u001b[1m2175/2175\u001b[0m \u001b[32m━━━━━━━━━━━━━━━━━━━━\u001b[0m\u001b[37m\u001b[0m \u001b[1m24s\u001b[0m 11ms/step - accuracy: 0.9795 - loss: 0.0822 - val_accuracy: 0.9872 - val_loss: 0.0518 - learning_rate: 5.0000e-04\n",
      "Epoch 6/15\n",
      "\u001b[1m2170/2175\u001b[0m \u001b[32m━━━━━━━━━━━━━━━━━━━\u001b[0m\u001b[37m━\u001b[0m \u001b[1m0s\u001b[0m 9ms/step - accuracy: 0.9830 - loss: 0.0670\n",
      "Epoch 6: val_accuracy improved from 0.98724 to 0.99236, saving model to mobilenet_best_model.h5\n",
      "\u001b[1m2175/2175\u001b[0m \u001b[32m━━━━━━━━━━━━━━━━━━━━\u001b[0m\u001b[37m\u001b[0m \u001b[1m24s\u001b[0m 11ms/step - accuracy: 0.9830 - loss: 0.0670 - val_accuracy: 0.9924 - val_loss: 0.0298 - learning_rate: 5.0000e-04\n",
      "Epoch 7/15\n",
      "\u001b[1m2172/2175\u001b[0m \u001b[32m━━━━━━━━━━━━━━━━━━━\u001b[0m\u001b[37m━\u001b[0m \u001b[1m0s\u001b[0m 9ms/step - accuracy: 0.9859 - loss: 0.0589\n",
      "Epoch 7: val_accuracy improved from 0.99236 to 0.99414, saving model to mobilenet_best_model.h5\n",
      "\u001b[1m2175/2175\u001b[0m \u001b[32m━━━━━━━━━━━━━━━━━━━━\u001b[0m\u001b[37m\u001b[0m \u001b[1m24s\u001b[0m 11ms/step - accuracy: 0.9859 - loss: 0.0589 - val_accuracy: 0.9941 - val_loss: 0.0253 - learning_rate: 5.0000e-04\n",
      "Epoch 8/15\n",
      "\u001b[1m2171/2175\u001b[0m \u001b[32m━━━━━━━━━━━━━━━━━━━\u001b[0m\u001b[37m━\u001b[0m \u001b[1m0s\u001b[0m 9ms/step - accuracy: 0.9869 - loss: 0.0543\n",
      "Epoch 8: val_accuracy improved from 0.99414 to 0.99454, saving model to mobilenet_best_model.h5\n",
      "\u001b[1m2175/2175\u001b[0m \u001b[32m━━━━━━━━━━━━━━━━━━━━\u001b[0m\u001b[37m\u001b[0m \u001b[1m24s\u001b[0m 11ms/step - accuracy: 0.9869 - loss: 0.0543 - val_accuracy: 0.9945 - val_loss: 0.0208 - learning_rate: 5.0000e-04\n",
      "Epoch 9/15\n",
      "\u001b[1m2174/2175\u001b[0m \u001b[32m━━━━━━━━━━━━━━━━━━━\u001b[0m\u001b[37m━\u001b[0m \u001b[1m0s\u001b[0m 9ms/step - accuracy: 0.9890 - loss: 0.0466\n",
      "Epoch 9: val_accuracy did not improve from 0.99454\n",
      "\u001b[1m2175/2175\u001b[0m \u001b[32m━━━━━━━━━━━━━━━━━━━━\u001b[0m\u001b[37m\u001b[0m \u001b[1m23s\u001b[0m 11ms/step - accuracy: 0.9890 - loss: 0.0466 - val_accuracy: 0.9925 - val_loss: 0.0389 - learning_rate: 5.0000e-04\n",
      "Epoch 10/15\n",
      "\u001b[1m2172/2175\u001b[0m \u001b[32m━━━━━━━━━━━━━━━━━━━\u001b[0m\u001b[37m━\u001b[0m \u001b[1m0s\u001b[0m 9ms/step - accuracy: 0.9904 - loss: 0.0394\n",
      "Epoch 10: val_accuracy improved from 0.99454 to 0.99707, saving model to mobilenet_best_model.h5\n",
      "\u001b[1m2175/2175\u001b[0m \u001b[32m━━━━━━━━━━━━━━━━━━━━\u001b[0m\u001b[37m\u001b[0m \u001b[1m24s\u001b[0m 11ms/step - accuracy: 0.9904 - loss: 0.0394 - val_accuracy: 0.9971 - val_loss: 0.0161 - learning_rate: 5.0000e-04\n",
      "Epoch 11/15\n",
      "\u001b[1m2173/2175\u001b[0m \u001b[32m━━━━━━━━━━━━━━━━━━━\u001b[0m\u001b[37m━\u001b[0m \u001b[1m0s\u001b[0m 9ms/step - accuracy: 0.9914 - loss: 0.0364\n",
      "Epoch 11: val_accuracy did not improve from 0.99707\n",
      "\u001b[1m2175/2175\u001b[0m \u001b[32m━━━━━━━━━━━━━━━━━━━━\u001b[0m\u001b[37m\u001b[0m \u001b[1m24s\u001b[0m 11ms/step - accuracy: 0.9914 - loss: 0.0364 - val_accuracy: 0.9959 - val_loss: 0.0145 - learning_rate: 5.0000e-04\n",
      "Epoch 12/15\n",
      "\u001b[1m2173/2175\u001b[0m \u001b[32m━━━━━━━━━━━━━━━━━━━\u001b[0m\u001b[37m━\u001b[0m \u001b[1m0s\u001b[0m 9ms/step - accuracy: 0.9926 - loss: 0.0305\n",
      "Epoch 12: val_accuracy improved from 0.99707 to 0.99805, saving model to mobilenet_best_model.h5\n",
      "\u001b[1m2175/2175\u001b[0m \u001b[32m━━━━━━━━━━━━━━━━━━━━\u001b[0m\u001b[37m\u001b[0m \u001b[1m24s\u001b[0m 11ms/step - accuracy: 0.9926 - loss: 0.0305 - val_accuracy: 0.9980 - val_loss: 0.0087 - learning_rate: 5.0000e-04\n",
      "Epoch 13/15\n",
      "\u001b[1m2174/2175\u001b[0m \u001b[32m━━━━━━━━━━━━━━━━━━━\u001b[0m\u001b[37m━\u001b[0m \u001b[1m0s\u001b[0m 9ms/step - accuracy: 0.9927 - loss: 0.0321\n",
      "Epoch 13: val_accuracy did not improve from 0.99805\n",
      "\u001b[1m2175/2175\u001b[0m \u001b[32m━━━━━━━━━━━━━━━━━━━━\u001b[0m\u001b[37m\u001b[0m \u001b[1m24s\u001b[0m 11ms/step - accuracy: 0.9927 - loss: 0.0321 - val_accuracy: 0.9964 - val_loss: 0.0132 - learning_rate: 5.0000e-04\n",
      "Epoch 14/15\n",
      "\u001b[1m2174/2175\u001b[0m \u001b[32m━━━━━━━━━━━━━━━━━━━\u001b[0m\u001b[37m━\u001b[0m \u001b[1m0s\u001b[0m 9ms/step - accuracy: 0.9933 - loss: 0.0324\n",
      "Epoch 14: val_accuracy did not improve from 0.99805\n",
      "\u001b[1m2175/2175\u001b[0m \u001b[32m━━━━━━━━━━━━━━━━━━━━\u001b[0m\u001b[37m\u001b[0m \u001b[1m24s\u001b[0m 11ms/step - accuracy: 0.9933 - loss: 0.0324 - val_accuracy: 0.9964 - val_loss: 0.0178 - learning_rate: 5.0000e-04\n",
      "Epoch 15/15\n",
      "\u001b[1m2170/2175\u001b[0m \u001b[32m━━━━━━━━━━━━━━━━━━━\u001b[0m\u001b[37m━\u001b[0m \u001b[1m0s\u001b[0m 9ms/step - accuracy: 0.9929 - loss: 0.0345\n",
      "Epoch 15: ReduceLROnPlateau reducing learning rate to 0.0002500000118743628.\n",
      "\n",
      "Epoch 15: val_accuracy did not improve from 0.99805\n",
      "\u001b[1m2175/2175\u001b[0m \u001b[32m━━━━━━━━━━━━━━━━━━━━\u001b[0m\u001b[37m\u001b[0m \u001b[1m24s\u001b[0m 11ms/step - accuracy: 0.9929 - loss: 0.0345 - val_accuracy: 0.9959 - val_loss: 0.0171 - learning_rate: 5.0000e-04\n",
      "Restoring model weights from the end of the best epoch: 12.\n"
     ]
    }
   ],
   "source": [
    "early_stopper = EarlyStopping(monitor='val_accuracy', patience=5, restore_best_weights=True, verbose=1)\n",
    "reduce_lr = ReduceLROnPlateau(monitor='val_accuracy', factor=0.5, patience=3, min_lr=1e-6, verbose=1)\n",
    "checkpoint = ModelCheckpoint('mobilenet_best_model.h5', monitor='val_accuracy', save_best_only=True, verbose=1)\n",
    "\n",
    "# === Training ===\n",
    "history = model.fit(\n",
    "    x_train, y_train,\n",
    "    validation_data=(x_test, y_test),\n",
    "    epochs=15,\n",
    "    callbacks=[early_stopper, reduce_lr, checkpoint],\n",
    "    class_weight=class_weights,\n",
    "    batch_size=32  # tambahkan batch_size karena tidak pakai generator\n",
    ")"
   ]
  },
  {
   "cell_type": "code",
   "execution_count": 16,
   "id": "da91ec7c",
   "metadata": {
    "execution": {
     "iopub.execute_input": "2025-05-24T06:05:18.426080Z",
     "iopub.status.busy": "2025-05-24T06:05:18.425359Z",
     "iopub.status.idle": "2025-05-24T06:05:19.074770Z",
     "shell.execute_reply": "2025-05-24T06:05:19.073994Z"
    },
    "papermill": {
     "duration": 0.915354,
     "end_time": "2025-05-24T06:05:19.076663",
     "exception": false,
     "start_time": "2025-05-24T06:05:18.161309",
     "status": "completed"
    },
    "tags": []
   },
   "outputs": [
    {
     "data": {
      "image/png": "[encoded data removed]",
      "text/plain": [
       "<Figure size 1200x500 with 2 Axes>"
      ]
     },
     "metadata": {},
     "output_type": "display_data"
    }
   ],
   "source": [
    "import matplotlib.pyplot as plt\n",
    "\n",
    "def plot_training_history(history):\n",
    "    acc = history.history['accuracy']\n",
    "    val_acc = history.history['val_accuracy']\n",
    "    loss = history.history['loss']\n",
    "    val_loss = history.history['val_loss']\n",
    "    epochs = range(1, len(acc) + 1)\n",
    "\n",
    "    # Grafik Akurasi\n",
    "    plt.figure(figsize=(12, 5))\n",
    "    plt.subplot(1, 2, 1)\n",
    "    plt.plot(epochs, acc, 'bo-', label='Training Accuracy')\n",
    "    plt.plot(epochs, val_acc, 'ro-', label='Validation Accuracy')\n",
    "    plt.title('Training and Validation Accuracy')\n",
    "    plt.xlabel('Epoch')\n",
    "    plt.ylabel('Accuracy')\n",
    "    plt.legend()\n",
    "\n",
    "    # Grafik Loss\n",
    "    plt.subplot(1, 2, 2)\n",
    "    plt.plot(epochs, loss, 'bo-', label='Training Loss')\n",
    "    plt.plot(epochs, val_loss, 'ro-', label='Validation Loss')\n",
    "    plt.title('Training and Validation Loss')\n",
    "    plt.xlabel('Epoch')\n",
    "    plt.ylabel('Loss')\n",
    "    plt.legend()\n",
    "\n",
    "    plt.tight_layout()\n",
    "    plt.show()\n",
    "\n",
    "# Panggil fungsi untuk menampilkan grafik\n",
    "plot_training_history(history)"
   ]
  },
  {
   "cell_type": "code",
   "execution_count": 17,
   "id": "773fe611",
   "metadata": {
    "execution": {
     "iopub.execute_input": "2025-05-24T06:05:19.673064Z",
     "iopub.status.busy": "2025-05-24T06:05:19.672728Z",
     "iopub.status.idle": "2025-05-24T06:05:33.058837Z",
     "shell.execute_reply": "2025-05-24T06:05:33.057756Z"
    },
    "papermill": {
     "duration": 13.654246,
     "end_time": "2025-05-24T06:05:33.060977",
     "exception": false,
     "start_time": "2025-05-24T06:05:19.406731",
     "status": "completed"
    },
    "tags": []
   },
   "outputs": [
    {
     "name": "stdout",
     "output_type": "stream",
     "text": [
      "\u001b[1m544/544\u001b[0m \u001b[32m━━━━━━━━━━━━━━━━━━━━\u001b[0m\u001b[37m\u001b[0m \u001b[1m11s\u001b[0m 13ms/step\n",
      "\n",
      "=== CLASSIFICATION REPORT ===\n",
      "              precision    recall  f1-score   support\n",
      "\n",
      "           A       1.00      0.99      1.00       631\n",
      "           B       0.99      1.00      0.99       624\n",
      "           C       1.00      1.00      1.00       566\n",
      "           D       1.00      1.00      1.00       603\n",
      "           E       1.00      1.00      1.00       613\n",
      "           F       1.00      1.00      1.00       613\n",
      "           G       1.00      1.00      1.00       568\n",
      "           H       1.00      1.00      1.00       596\n",
      "           I       1.00      1.00      1.00       606\n",
      "           J       0.99      0.98      0.99       576\n",
      "           K       1.00      1.00      1.00       611\n",
      "           L       1.00      1.00      1.00       584\n",
      "           M       1.00      1.00      1.00       597\n",
      "           N       1.00      1.00      1.00       592\n",
      "           O       0.99      1.00      1.00       577\n",
      "           P       1.00      1.00      1.00       583\n",
      "           Q       1.00      1.00      1.00       609\n",
      "           R       1.00      1.00      1.00       601\n",
      "           S       1.00      1.00      1.00       601\n",
      "           T       1.00      0.99      1.00       585\n",
      "           U       1.00      0.99      0.99       592\n",
      "           V       0.99      1.00      1.00       598\n",
      "           W       1.00      1.00      1.00       624\n",
      "           X       1.00      1.00      1.00       601\n",
      "           Y       1.00      1.00      1.00       602\n",
      "           Z       0.99      1.00      1.00       641\n",
      "         del       1.00      1.00      1.00       600\n",
      "     nothing       1.00      1.00      1.00       614\n",
      "       space       1.00      1.00      1.00       592\n",
      "\n",
      "    accuracy                           1.00     17400\n",
      "   macro avg       1.00      1.00      1.00     17400\n",
      "weighted avg       1.00      1.00      1.00     17400\n",
      "\n"
     ]
    }
   ],
   "source": [
    "from sklearn.metrics import classification_report\n",
    "import matplotlib.pyplot as plt\n",
    "\n",
    "# === CLASSIFICATION REPORT ===\n",
    "y_pred_test = model.predict(x_test)\n",
    "y_pred_classes = np.argmax(y_pred_test, axis=1)\n",
    "y_true_classes = np.argmax(y_test, axis=1)\n",
    "\n",
    "print(\"\\n=== CLASSIFICATION REPORT ===\")\n",
    "print(classification_report(y_true_classes, y_pred_classes, target_names=classes))"
   ]
  },
  {
   "cell_type": "code",
   "execution_count": 18,
   "id": "a8f6d85a",
   "metadata": {
    "execution": {
     "iopub.execute_input": "2025-05-24T06:05:33.609399Z",
     "iopub.status.busy": "2025-05-24T06:05:33.608633Z",
     "iopub.status.idle": "2025-05-24T06:06:02.107921Z",
     "shell.execute_reply": "2025-05-24T06:06:02.106995Z"
    },
    "papermill": {
     "duration": 28.776926,
     "end_time": "2025-05-24T06:06:02.109363",
     "exception": false,
     "start_time": "2025-05-24T06:05:33.332437",
     "status": "completed"
    },
    "tags": []
   },
   "outputs": [
    {
     "name": "stdout",
     "output_type": "stream",
     "text": [
      "Saved artifact at '/tmp/tmp8pwb7sjp'. The following endpoints are available:\n",
      "\n",
      "* Endpoint 'serve'\n",
      "  args_0 (POSITIONAL_ONLY): TensorSpec(shape=(None, 64, 64, 3), dtype=tf.float32, name='input_layer_1')\n",
      "Output Type:\n",
      "  TensorSpec(shape=(None, 29), dtype=tf.float32, name=None)\n",
      "Captures:\n",
      "  135882463652816: TensorSpec(shape=(), dtype=tf.resource, name=None)\n",
      "  135882463655504: TensorSpec(shape=(), dtype=tf.resource, name=None)\n",
      "  135882463652432: TensorSpec(shape=(), dtype=tf.resource, name=None)\n",
      "  135882463642448: TensorSpec(shape=(), dtype=tf.resource, name=None)\n",
      "  135882463653008: TensorSpec(shape=(), dtype=tf.resource, name=None)\n",
      "  135882463653584: TensorSpec(shape=(), dtype=tf.resource, name=None)\n",
      "  135879314080784: TensorSpec(shape=(), dtype=tf.resource, name=None)\n",
      "  135879314080208: TensorSpec(shape=(), dtype=tf.resource, name=None)\n",
      "  135882463653392: TensorSpec(shape=(), dtype=tf.resource, name=None)\n",
      "  135879314081168: TensorSpec(shape=(), dtype=tf.resource, name=None)\n",
      "  135879314082320: TensorSpec(shape=(), dtype=tf.resource, name=None)\n",
      "  135879314082704: TensorSpec(shape=(), dtype=tf.resource, name=None)\n",
      "  135879314083088: TensorSpec(shape=(), dtype=tf.resource, name=None)\n",
      "  135879314082896: TensorSpec(shape=(), dtype=tf.resource, name=None)\n",
      "  135879314080400: TensorSpec(shape=(), dtype=tf.resource, name=None)\n",
      "  135879314084240: TensorSpec(shape=(), dtype=tf.resource, name=None)\n",
      "  135879314084624: TensorSpec(shape=(), dtype=tf.resource, name=None)\n",
      "  135879314085008: TensorSpec(shape=(), dtype=tf.resource, name=None)\n",
      "  135879314084816: TensorSpec(shape=(), dtype=tf.resource, name=None)\n",
      "  135879314079824: TensorSpec(shape=(), dtype=tf.resource, name=None)\n",
      "  135879314086160: TensorSpec(shape=(), dtype=tf.resource, name=None)\n",
      "  135879314086544: TensorSpec(shape=(), dtype=tf.resource, name=None)\n",
      "  135879314086928: TensorSpec(shape=(), dtype=tf.resource, name=None)\n",
      "  135879314086736: TensorSpec(shape=(), dtype=tf.resource, name=None)\n",
      "  135879314081936: TensorSpec(shape=(), dtype=tf.resource, name=None)\n",
      "  135879314088080: TensorSpec(shape=(), dtype=tf.resource, name=None)\n",
      "  135879314088464: TensorSpec(shape=(), dtype=tf.resource, name=None)\n",
      "  135879314088848: TensorSpec(shape=(), dtype=tf.resource, name=None)\n",
      "  135879314088656: TensorSpec(shape=(), dtype=tf.resource, name=None)\n",
      "  135879314083856: TensorSpec(shape=(), dtype=tf.resource, name=None)\n",
      "  135879314090000: TensorSpec(shape=(), dtype=tf.resource, name=None)\n",
      "  135879314090384: TensorSpec(shape=(), dtype=tf.resource, name=None)\n",
      "  135879314090768: TensorSpec(shape=(), dtype=tf.resource, name=None)\n",
      "  135879314090576: TensorSpec(shape=(), dtype=tf.resource, name=None)\n",
      "  135879314085776: TensorSpec(shape=(), dtype=tf.resource, name=None)\n",
      "  135879314091920: TensorSpec(shape=(), dtype=tf.resource, name=None)\n",
      "  135879314092304: TensorSpec(shape=(), dtype=tf.resource, name=None)\n",
      "  135879314092688: TensorSpec(shape=(), dtype=tf.resource, name=None)\n",
      "  135879314092496: TensorSpec(shape=(), dtype=tf.resource, name=None)\n",
      "  135879314087696: TensorSpec(shape=(), dtype=tf.resource, name=None)\n",
      "  135879314093840: TensorSpec(shape=(), dtype=tf.resource, name=None)\n",
      "  135879314094224: TensorSpec(shape=(), dtype=tf.resource, name=None)\n",
      "  135879314094608: TensorSpec(shape=(), dtype=tf.resource, name=None)\n",
      "  135879314094416: TensorSpec(shape=(), dtype=tf.resource, name=None)\n",
      "  135879314089616: TensorSpec(shape=(), dtype=tf.resource, name=None)\n",
      "  135879314095760: TensorSpec(shape=(), dtype=tf.resource, name=None)\n",
      "  135879314080976: TensorSpec(shape=(), dtype=tf.resource, name=None)\n",
      "  135879312261200: TensorSpec(shape=(), dtype=tf.resource, name=None)\n",
      "  135879314095376: TensorSpec(shape=(), dtype=tf.resource, name=None)\n",
      "  135879314093456: TensorSpec(shape=(), dtype=tf.resource, name=None)\n",
      "  135879312262736: TensorSpec(shape=(), dtype=tf.resource, name=None)\n",
      "  135879312263120: TensorSpec(shape=(), dtype=tf.resource, name=None)\n",
      "  135879312263504: TensorSpec(shape=(), dtype=tf.resource, name=None)\n",
      "  135879312263312: TensorSpec(shape=(), dtype=tf.resource, name=None)\n",
      "  135879312261968: TensorSpec(shape=(), dtype=tf.resource, name=None)\n",
      "  135879312264656: TensorSpec(shape=(), dtype=tf.resource, name=None)\n",
      "  135879312265040: TensorSpec(shape=(), dtype=tf.resource, name=None)\n",
      "  135879312265424: TensorSpec(shape=(), dtype=tf.resource, name=None)\n",
      "  135879312265232: TensorSpec(shape=(), dtype=tf.resource, name=None)\n",
      "  135879312262160: TensorSpec(shape=(), dtype=tf.resource, name=None)\n",
      "  135879312266576: TensorSpec(shape=(), dtype=tf.resource, name=None)\n",
      "  135879312266960: TensorSpec(shape=(), dtype=tf.resource, name=None)\n",
      "  135879312267344: TensorSpec(shape=(), dtype=tf.resource, name=None)\n",
      "  135879312267152: TensorSpec(shape=(), dtype=tf.resource, name=None)\n",
      "  135879312261392: TensorSpec(shape=(), dtype=tf.resource, name=None)\n",
      "  135879312268496: TensorSpec(shape=(), dtype=tf.resource, name=None)\n",
      "  135879312268880: TensorSpec(shape=(), dtype=tf.resource, name=None)\n",
      "  135879312269264: TensorSpec(shape=(), dtype=tf.resource, name=None)\n",
      "  135879312269072: TensorSpec(shape=(), dtype=tf.resource, name=None)\n",
      "  135879312264272: TensorSpec(shape=(), dtype=tf.resource, name=None)\n",
      "  135879312270416: TensorSpec(shape=(), dtype=tf.resource, name=None)\n",
      "  135879312270800: TensorSpec(shape=(), dtype=tf.resource, name=None)\n",
      "  135879312271184: TensorSpec(shape=(), dtype=tf.resource, name=None)\n",
      "  135879312270992: TensorSpec(shape=(), dtype=tf.resource, name=None)\n",
      "  135879312266192: TensorSpec(shape=(), dtype=tf.resource, name=None)\n",
      "  135879312272336: TensorSpec(shape=(), dtype=tf.resource, name=None)\n",
      "  135879312272720: TensorSpec(shape=(), dtype=tf.resource, name=None)\n",
      "  135879312273104: TensorSpec(shape=(), dtype=tf.resource, name=None)\n",
      "  135879312272912: TensorSpec(shape=(), dtype=tf.resource, name=None)\n",
      "  135879312268112: TensorSpec(shape=(), dtype=tf.resource, name=None)\n",
      "  135879312274256: TensorSpec(shape=(), dtype=tf.resource, name=None)\n",
      "  135879312274640: TensorSpec(shape=(), dtype=tf.resource, name=None)\n",
      "  135879312275024: TensorSpec(shape=(), dtype=tf.resource, name=None)\n",
      "  135879312274832: TensorSpec(shape=(), dtype=tf.resource, name=None)\n",
      "  135879312270032: TensorSpec(shape=(), dtype=tf.resource, name=None)\n",
      "  135879312276176: TensorSpec(shape=(), dtype=tf.resource, name=None)\n",
      "  135879312276560: TensorSpec(shape=(), dtype=tf.resource, name=None)\n",
      "  135879312277328: TensorSpec(shape=(), dtype=tf.resource, name=None)\n",
      "  135879312276752: TensorSpec(shape=(), dtype=tf.resource, name=None)\n",
      "  135879312271952: TensorSpec(shape=(), dtype=tf.resource, name=None)\n",
      "  135879312262352: TensorSpec(shape=(), dtype=tf.resource, name=None)\n",
      "  135879312622608: TensorSpec(shape=(), dtype=tf.resource, name=None)\n",
      "  135879312622032: TensorSpec(shape=(), dtype=tf.resource, name=None)\n",
      "  135879312273872: TensorSpec(shape=(), dtype=tf.resource, name=None)\n",
      "  135879312622992: TensorSpec(shape=(), dtype=tf.resource, name=None)\n",
      "  135879312624144: TensorSpec(shape=(), dtype=tf.resource, name=None)\n",
      "  135879312624528: TensorSpec(shape=(), dtype=tf.resource, name=None)\n",
      "  135879312624912: TensorSpec(shape=(), dtype=tf.resource, name=None)\n",
      "  135879312624720: TensorSpec(shape=(), dtype=tf.resource, name=None)\n",
      "  135879312622224: TensorSpec(shape=(), dtype=tf.resource, name=None)\n",
      "  135879312626064: TensorSpec(shape=(), dtype=tf.resource, name=None)\n",
      "  135879312626448: TensorSpec(shape=(), dtype=tf.resource, name=None)\n",
      "  135879312626832: TensorSpec(shape=(), dtype=tf.resource, name=None)\n",
      "  135879312626640: TensorSpec(shape=(), dtype=tf.resource, name=None)\n",
      "  135879312621648: TensorSpec(shape=(), dtype=tf.resource, name=None)\n",
      "  135879312627984: TensorSpec(shape=(), dtype=tf.resource, name=None)\n",
      "  135879312628368: TensorSpec(shape=(), dtype=tf.resource, name=None)\n",
      "  135879312628752: TensorSpec(shape=(), dtype=tf.resource, name=None)\n",
      "  135879312628560: TensorSpec(shape=(), dtype=tf.resource, name=None)\n",
      "  135879312623760: TensorSpec(shape=(), dtype=tf.resource, name=None)\n",
      "  135879312629904: TensorSpec(shape=(), dtype=tf.resource, name=None)\n",
      "  135879312630288: TensorSpec(shape=(), dtype=tf.resource, name=None)\n",
      "  135879312630672: TensorSpec(shape=(), dtype=tf.resource, name=None)\n",
      "  135879312630480: TensorSpec(shape=(), dtype=tf.resource, name=None)\n",
      "  135879312625680: TensorSpec(shape=(), dtype=tf.resource, name=None)\n",
      "  135879312631824: TensorSpec(shape=(), dtype=tf.resource, name=None)\n",
      "  135879312632208: TensorSpec(shape=(), dtype=tf.resource, name=None)\n",
      "  135879312632592: TensorSpec(shape=(), dtype=tf.resource, name=None)\n",
      "  135879312632400: TensorSpec(shape=(), dtype=tf.resource, name=None)\n",
      "  135879312627600: TensorSpec(shape=(), dtype=tf.resource, name=None)\n",
      "  135879312633744: TensorSpec(shape=(), dtype=tf.resource, name=None)\n",
      "  135879312634128: TensorSpec(shape=(), dtype=tf.resource, name=None)\n",
      "  135879312634512: TensorSpec(shape=(), dtype=tf.resource, name=None)\n",
      "  135879312634320: TensorSpec(shape=(), dtype=tf.resource, name=None)\n",
      "  135879312629520: TensorSpec(shape=(), dtype=tf.resource, name=None)\n",
      "  135879312635664: TensorSpec(shape=(), dtype=tf.resource, name=None)\n",
      "  135879312636048: TensorSpec(shape=(), dtype=tf.resource, name=None)\n",
      "  135879312636432: TensorSpec(shape=(), dtype=tf.resource, name=None)\n",
      "  135879312636240: TensorSpec(shape=(), dtype=tf.resource, name=None)\n",
      "  135879312631440: TensorSpec(shape=(), dtype=tf.resource, name=None)\n",
      "  135879312637584: TensorSpec(shape=(), dtype=tf.resource, name=None)\n",
      "  135879312622800: TensorSpec(shape=(), dtype=tf.resource, name=None)\n",
      "  135879312916560: TensorSpec(shape=(), dtype=tf.resource, name=None)\n",
      "  135879312637200: TensorSpec(shape=(), dtype=tf.resource, name=None)\n",
      "  135879312635280: TensorSpec(shape=(), dtype=tf.resource, name=None)\n",
      "  135879312918096: TensorSpec(shape=(), dtype=tf.resource, name=None)\n",
      "  135879312918480: TensorSpec(shape=(), dtype=tf.resource, name=None)\n",
      "  135879312918864: TensorSpec(shape=(), dtype=tf.resource, name=None)\n",
      "  135879312918672: TensorSpec(shape=(), dtype=tf.resource, name=None)\n",
      "  135879312917328: TensorSpec(shape=(), dtype=tf.resource, name=None)\n",
      "  135879312920016: TensorSpec(shape=(), dtype=tf.resource, name=None)\n",
      "  135879312920400: TensorSpec(shape=(), dtype=tf.resource, name=None)\n",
      "  135879312920784: TensorSpec(shape=(), dtype=tf.resource, name=None)\n",
      "  135879312920592: TensorSpec(shape=(), dtype=tf.resource, name=None)\n",
      "  135879312917520: TensorSpec(shape=(), dtype=tf.resource, name=None)\n",
      "  135879312921936: TensorSpec(shape=(), dtype=tf.resource, name=None)\n",
      "  135879312922320: TensorSpec(shape=(), dtype=tf.resource, name=None)\n",
      "  135879312922704: TensorSpec(shape=(), dtype=tf.resource, name=None)\n",
      "  135879312922512: TensorSpec(shape=(), dtype=tf.resource, name=None)\n",
      "  135879312916752: TensorSpec(shape=(), dtype=tf.resource, name=None)\n",
      "  135879312923856: TensorSpec(shape=(), dtype=tf.resource, name=None)\n",
      "  135879312924240: TensorSpec(shape=(), dtype=tf.resource, name=None)\n",
      "  135879312924624: TensorSpec(shape=(), dtype=tf.resource, name=None)\n",
      "  135879312924432: TensorSpec(shape=(), dtype=tf.resource, name=None)\n",
      "  135879312919632: TensorSpec(shape=(), dtype=tf.resource, name=None)\n",
      "  135879312925776: TensorSpec(shape=(), dtype=tf.resource, name=None)\n",
      "  135879312926160: TensorSpec(shape=(), dtype=tf.resource, name=None)\n",
      "  135879312926544: TensorSpec(shape=(), dtype=tf.resource, name=None)\n",
      "  135879312926352: TensorSpec(shape=(), dtype=tf.resource, name=None)\n",
      "  135879312921552: TensorSpec(shape=(), dtype=tf.resource, name=None)\n",
      "  135879312927696: TensorSpec(shape=(), dtype=tf.resource, name=None)\n",
      "  135879312928080: TensorSpec(shape=(), dtype=tf.resource, name=None)\n",
      "  135879312928464: TensorSpec(shape=(), dtype=tf.resource, name=None)\n",
      "  135879312928272: TensorSpec(shape=(), dtype=tf.resource, name=None)\n",
      "  135879312923472: TensorSpec(shape=(), dtype=tf.resource, name=None)\n",
      "  135879312929616: TensorSpec(shape=(), dtype=tf.resource, name=None)\n",
      "  135879312930000: TensorSpec(shape=(), dtype=tf.resource, name=None)\n",
      "  135879312930384: TensorSpec(shape=(), dtype=tf.resource, name=None)\n",
      "  135879312930192: TensorSpec(shape=(), dtype=tf.resource, name=None)\n",
      "  135879312925392: TensorSpec(shape=(), dtype=tf.resource, name=None)\n",
      "  135879312931536: TensorSpec(shape=(), dtype=tf.resource, name=None)\n",
      "  135879312931920: TensorSpec(shape=(), dtype=tf.resource, name=None)\n",
      "  135879312932688: TensorSpec(shape=(), dtype=tf.resource, name=None)\n",
      "  135879312932112: TensorSpec(shape=(), dtype=tf.resource, name=None)\n",
      "  135879312927312: TensorSpec(shape=(), dtype=tf.resource, name=None)\n",
      "  135879312917712: TensorSpec(shape=(), dtype=tf.resource, name=None)\n",
      "  135879311131664: TensorSpec(shape=(), dtype=tf.resource, name=None)\n",
      "  135879311131088: TensorSpec(shape=(), dtype=tf.resource, name=None)\n",
      "  135879312929232: TensorSpec(shape=(), dtype=tf.resource, name=None)\n",
      "  135879311132048: TensorSpec(shape=(), dtype=tf.resource, name=None)\n",
      "  135879311133200: TensorSpec(shape=(), dtype=tf.resource, name=None)\n",
      "  135879311133584: TensorSpec(shape=(), dtype=tf.resource, name=None)\n",
      "  135879311133968: TensorSpec(shape=(), dtype=tf.resource, name=None)\n",
      "  135879311133776: TensorSpec(shape=(), dtype=tf.resource, name=None)\n",
      "  135879311131280: TensorSpec(shape=(), dtype=tf.resource, name=None)\n",
      "  135879311135120: TensorSpec(shape=(), dtype=tf.resource, name=None)\n",
      "  135879311135504: TensorSpec(shape=(), dtype=tf.resource, name=None)\n",
      "  135879311135888: TensorSpec(shape=(), dtype=tf.resource, name=None)\n",
      "  135879311135696: TensorSpec(shape=(), dtype=tf.resource, name=None)\n",
      "  135879311130704: TensorSpec(shape=(), dtype=tf.resource, name=None)\n",
      "  135879311137040: TensorSpec(shape=(), dtype=tf.resource, name=None)\n",
      "  135879311137424: TensorSpec(shape=(), dtype=tf.resource, name=None)\n",
      "  135879311137808: TensorSpec(shape=(), dtype=tf.resource, name=None)\n",
      "  135879311137616: TensorSpec(shape=(), dtype=tf.resource, name=None)\n",
      "  135879311132816: TensorSpec(shape=(), dtype=tf.resource, name=None)\n",
      "  135879311138960: TensorSpec(shape=(), dtype=tf.resource, name=None)\n",
      "  135879311139344: TensorSpec(shape=(), dtype=tf.resource, name=None)\n",
      "  135879311139728: TensorSpec(shape=(), dtype=tf.resource, name=None)\n",
      "  135879311139536: TensorSpec(shape=(), dtype=tf.resource, name=None)\n",
      "  135879311134736: TensorSpec(shape=(), dtype=tf.resource, name=None)\n",
      "  135879311140880: TensorSpec(shape=(), dtype=tf.resource, name=None)\n",
      "  135879311141264: TensorSpec(shape=(), dtype=tf.resource, name=None)\n",
      "  135879311141648: TensorSpec(shape=(), dtype=tf.resource, name=None)\n",
      "  135879311141456: TensorSpec(shape=(), dtype=tf.resource, name=None)\n",
      "  135879311136656: TensorSpec(shape=(), dtype=tf.resource, name=None)\n",
      "  135879311142800: TensorSpec(shape=(), dtype=tf.resource, name=None)\n",
      "  135879311143184: TensorSpec(shape=(), dtype=tf.resource, name=None)\n",
      "  135879311143568: TensorSpec(shape=(), dtype=tf.resource, name=None)\n",
      "  135879311143376: TensorSpec(shape=(), dtype=tf.resource, name=None)\n",
      "  135879311138576: TensorSpec(shape=(), dtype=tf.resource, name=None)\n",
      "  135879311144720: TensorSpec(shape=(), dtype=tf.resource, name=None)\n",
      "  135879311145104: TensorSpec(shape=(), dtype=tf.resource, name=None)\n",
      "  135879311145488: TensorSpec(shape=(), dtype=tf.resource, name=None)\n",
      "  135879311145296: TensorSpec(shape=(), dtype=tf.resource, name=None)\n",
      "  135879311140496: TensorSpec(shape=(), dtype=tf.resource, name=None)\n",
      "  135879311146640: TensorSpec(shape=(), dtype=tf.resource, name=None)\n",
      "  135879311131856: TensorSpec(shape=(), dtype=tf.resource, name=None)\n",
      "  135879311458384: TensorSpec(shape=(), dtype=tf.resource, name=None)\n",
      "  135879311146256: TensorSpec(shape=(), dtype=tf.resource, name=None)\n",
      "  135879311144336: TensorSpec(shape=(), dtype=tf.resource, name=None)\n",
      "  135879311459920: TensorSpec(shape=(), dtype=tf.resource, name=None)\n",
      "  135879311460304: TensorSpec(shape=(), dtype=tf.resource, name=None)\n",
      "  135879311460688: TensorSpec(shape=(), dtype=tf.resource, name=None)\n",
      "  135879311460496: TensorSpec(shape=(), dtype=tf.resource, name=None)\n",
      "  135879311459152: TensorSpec(shape=(), dtype=tf.resource, name=None)\n",
      "  135879311461840: TensorSpec(shape=(), dtype=tf.resource, name=None)\n",
      "  135879311462224: TensorSpec(shape=(), dtype=tf.resource, name=None)\n",
      "  135879311462608: TensorSpec(shape=(), dtype=tf.resource, name=None)\n",
      "  135879311462416: TensorSpec(shape=(), dtype=tf.resource, name=None)\n",
      "  135879311459344: TensorSpec(shape=(), dtype=tf.resource, name=None)\n",
      "  135879311463760: TensorSpec(shape=(), dtype=tf.resource, name=None)\n",
      "  135879311464144: TensorSpec(shape=(), dtype=tf.resource, name=None)\n",
      "  135879311464528: TensorSpec(shape=(), dtype=tf.resource, name=None)\n",
      "  135879311464336: TensorSpec(shape=(), dtype=tf.resource, name=None)\n",
      "  135879311458576: TensorSpec(shape=(), dtype=tf.resource, name=None)\n",
      "  135879311465680: TensorSpec(shape=(), dtype=tf.resource, name=None)\n",
      "  135879311466064: TensorSpec(shape=(), dtype=tf.resource, name=None)\n",
      "  135879311466448: TensorSpec(shape=(), dtype=tf.resource, name=None)\n",
      "  135879311466256: TensorSpec(shape=(), dtype=tf.resource, name=None)\n",
      "  135879311461456: TensorSpec(shape=(), dtype=tf.resource, name=None)\n",
      "  135879311467600: TensorSpec(shape=(), dtype=tf.resource, name=None)\n",
      "  135879311467984: TensorSpec(shape=(), dtype=tf.resource, name=None)\n",
      "  135879311468368: TensorSpec(shape=(), dtype=tf.resource, name=None)\n",
      "  135879311468176: TensorSpec(shape=(), dtype=tf.resource, name=None)\n",
      "  135879311463376: TensorSpec(shape=(), dtype=tf.resource, name=None)\n",
      "  135879311469520: TensorSpec(shape=(), dtype=tf.resource, name=None)\n",
      "  135879311469904: TensorSpec(shape=(), dtype=tf.resource, name=None)\n",
      "  135879311470288: TensorSpec(shape=(), dtype=tf.resource, name=None)\n",
      "  135879311470096: TensorSpec(shape=(), dtype=tf.resource, name=None)\n",
      "  135879311465296: TensorSpec(shape=(), dtype=tf.resource, name=None)\n",
      "  135879311471440: TensorSpec(shape=(), dtype=tf.resource, name=None)\n",
      "  135879311471824: TensorSpec(shape=(), dtype=tf.resource, name=None)\n",
      "  135879311472208: TensorSpec(shape=(), dtype=tf.resource, name=None)\n",
      "  135879311472016: TensorSpec(shape=(), dtype=tf.resource, name=None)\n",
      "  135879311467216: TensorSpec(shape=(), dtype=tf.resource, name=None)\n",
      "  135879311473360: TensorSpec(shape=(), dtype=tf.resource, name=None)\n",
      "  135879311473744: TensorSpec(shape=(), dtype=tf.resource, name=None)\n",
      "  135879311474512: TensorSpec(shape=(), dtype=tf.resource, name=None)\n",
      "  135879311473936: TensorSpec(shape=(), dtype=tf.resource, name=None)\n",
      "  135879311469136: TensorSpec(shape=(), dtype=tf.resource, name=None)\n",
      "  135879311459536: TensorSpec(shape=(), dtype=tf.resource, name=None)\n",
      "  135879311471056: TensorSpec(shape=(), dtype=tf.resource, name=None)\n",
      "  135879314244048: TensorSpec(shape=(), dtype=tf.resource, name=None)\n",
      "  135879314246352: TensorSpec(shape=(), dtype=tf.resource, name=None)\n",
      "  135879314244432: TensorSpec(shape=(), dtype=tf.resource, name=None)\n",
      "  135879314247504: TensorSpec(shape=(), dtype=tf.resource, name=None)\n",
      "  135879314247312: TensorSpec(shape=(), dtype=tf.resource, name=None)\n",
      "  135879314248272: TensorSpec(shape=(), dtype=tf.resource, name=None)\n"
     ]
    },
    {
     "name": "stderr",
     "output_type": "stream",
     "text": [
      "W0000 00:00:1748066759.440482      19 tf_tfl_flatbuffer_helpers.cc:365] Ignored output_format.\n",
      "W0000 00:00:1748066759.440522      19 tf_tfl_flatbuffer_helpers.cc:368] Ignored drop_control_dependency.\n",
      "I0000 00:00:1748066759.603764      19 mlir_graph_optimization_pass.cc:401] MLIR V1 optimization pass is not enabled\n"
     ]
    },
    {
     "name": "stdout",
     "output_type": "stream",
     "text": [
      "✅ Model berhasil dikonversi ke TFLite dan disimpan sebagai 'model_mobilenet.tflite'\n"
     ]
    }
   ],
   "source": [
    "import tensorflow as tf\n",
    "\n",
    "# Load model .h5\n",
    "model = tf.keras.models.load_model('mobilenet_best_model.h5')\n",
    "\n",
    "# Konversi ke TFLite\n",
    "converter = tf.lite.TFLiteConverter.from_keras_model(model)\n",
    "tflite_model = converter.convert()\n",
    "\n",
    "# Simpan ke file\n",
    "with open('model_mobilenet.tflite', 'wb') as f:\n",
    "    f.write(tflite_model)\n",
    "\n",
    "print(\"✅ Model berhasil dikonversi ke TFLite dan disimpan sebagai 'model_mobilenet.tflite'\")"
   ]
  },
  {
   "cell_type": "code",
   "execution_count": 19,
   "id": "1cb1a22d",
   "metadata": {
    "execution": {
     "iopub.execute_input": "2025-05-24T06:06:02.651437Z",
     "iopub.status.busy": "2025-05-24T06:06:02.650630Z",
     "iopub.status.idle": "2025-05-24T06:06:11.172407Z",
     "shell.execute_reply": "2025-05-24T06:06:11.171503Z"
    },
    "papermill": {
     "duration": 8.794732,
     "end_time": "2025-05-24T06:06:11.174077",
     "exception": false,
     "start_time": "2025-05-24T06:06:02.379345",
     "status": "completed"
    },
    "tags": []
   },
   "outputs": [
    {
     "name": "stdout",
     "output_type": "stream",
     "text": [
      "Collecting tensorflowjs\r\n",
      "  Downloading tensorflowjs-4.22.0-py3-none-any.whl.metadata (3.2 kB)\r\n",
      "Requirement already satisfied: flax>=0.7.2 in /usr/local/lib/python3.11/dist-packages (from tensorflowjs) (0.10.5)\r\n",
      "Requirement already satisfied: importlib_resources>=5.9.0 in /usr/local/lib/python3.11/dist-packages (from tensorflowjs) (6.5.2)\r\n",
      "Requirement already satisfied: jax>=0.4.13 in /usr/local/lib/python3.11/dist-packages (from tensorflowjs) (0.5.2)\r\n",
      "Requirement already satisfied: jaxlib>=0.4.13 in /usr/local/lib/python3.11/dist-packages (from tensorflowjs) (0.5.1)\r\n",
      "Requirement already satisfied: tensorflow<3,>=2.13.0 in /usr/local/lib/python3.11/dist-packages (from tensorflowjs) (2.18.0)\r\n",
      "Requirement already satisfied: tf-keras>=2.13.0 in /usr/local/lib/python3.11/dist-packages (from tensorflowjs) (2.18.0)\r\n",
      "Requirement already satisfied: tensorflow-decision-forests>=1.5.0 in /usr/local/lib/python3.11/dist-packages (from tensorflowjs) (1.11.0)\r\n",
      "Requirement already satisfied: six<2,>=1.16.0 in /usr/local/lib/python3.11/dist-packages (from tensorflowjs) (1.17.0)\r\n",
      "Requirement already satisfied: tensorflow-hub>=0.16.1 in /usr/local/lib/python3.11/dist-packages (from tensorflowjs) (0.16.1)\r\n",
      "Collecting packaging~=23.1 (from tensorflowjs)\r\n",
      "  Downloading packaging-23.2-py3-none-any.whl.metadata (3.2 kB)\r\n",
      "Requirement already satisfied: numpy>=1.23.2 in /usr/local/lib/python3.11/dist-packages (from flax>=0.7.2->tensorflowjs) (1.26.4)\r\n",
      "Requirement already satisfied: msgpack in /usr/local/lib/python3.11/dist-packages (from flax>=0.7.2->tensorflowjs) (1.1.0)\r\n",
      "Requirement already satisfied: optax in /usr/local/lib/python3.11/dist-packages (from flax>=0.7.2->tensorflowjs) (0.2.4)\r\n",
      "Requirement already satisfied: orbax-checkpoint in /usr/local/lib/python3.11/dist-packages (from flax>=0.7.2->tensorflowjs) (0.11.10)\r\n",
      "Requirement already satisfied: tensorstore in /usr/local/lib/python3.11/dist-packages (from flax>=0.7.2->tensorflowjs) (0.1.73)\r\n",
      "Requirement already satisfied: rich>=11.1 in /usr/local/lib/python3.11/dist-packages (from flax>=0.7.2->tensorflowjs) (14.0.0)\r\n",
      "Requirement already satisfied: typing_extensions>=4.2 in /usr/local/lib/python3.11/dist-packages (from flax>=0.7.2->tensorflowjs) (4.13.2)\r\n",
      "Requirement already satisfied: PyYAML>=5.4.1 in /usr/local/lib/python3.11/dist-packages (from flax>=0.7.2->tensorflowjs) (6.0.2)\r\n",
      "Requirement already satisfied: treescope>=0.1.7 in /usr/local/lib/python3.11/dist-packages (from flax>=0.7.2->tensorflowjs) (0.1.9)\r\n",
      "Requirement already satisfied: ml_dtypes>=0.4.0 in /usr/local/lib/python3.11/dist-packages (from jax>=0.4.13->tensorflowjs) (0.4.1)\r\n",
      "Requirement already satisfied: opt_einsum in /usr/local/lib/python3.11/dist-packages (from jax>=0.4.13->tensorflowjs) (3.4.0)\r\n",
      "Requirement already satisfied: scipy>=1.11.1 in /usr/local/lib/python3.11/dist-packages (from jax>=0.4.13->tensorflowjs) (1.15.2)\r\n",
      "Requirement already satisfied: absl-py>=1.0.0 in /usr/local/lib/python3.11/dist-packages (from tensorflow<3,>=2.13.0->tensorflowjs) (1.4.0)\r\n",
      "Requirement already satisfied: astunparse>=1.6.0 in /usr/local/lib/python3.11/dist-packages (from tensorflow<3,>=2.13.0->tensorflowjs) (1.6.3)\r\n",
      "Requirement already satisfied: flatbuffers>=24.3.25 in /usr/local/lib/python3.11/dist-packages (from tensorflow<3,>=2.13.0->tensorflowjs) (25.2.10)\r\n",
      "Requirement already satisfied: gast!=0.5.0,!=0.5.1,!=0.5.2,>=0.2.1 in /usr/local/lib/python3.11/dist-packages (from tensorflow<3,>=2.13.0->tensorflowjs) (0.6.0)\r\n",
      "Requirement already satisfied: google-pasta>=0.1.1 in /usr/local/lib/python3.11/dist-packages (from tensorflow<3,>=2.13.0->tensorflowjs) (0.2.0)\r\n",
      "Requirement already satisfied: libclang>=13.0.0 in /usr/local/lib/python3.11/dist-packages (from tensorflow<3,>=2.13.0->tensorflowjs) (18.1.1)\r\n",
      "Requirement already satisfied: protobuf!=4.21.0,!=4.21.1,!=4.21.2,!=4.21.3,!=4.21.4,!=4.21.5,<6.0.0dev,>=3.20.3 in /usr/local/lib/python3.11/dist-packages (from tensorflow<3,>=2.13.0->tensorflowjs) (3.20.3)\r\n",
      "Requirement already satisfied: requests<3,>=2.21.0 in /usr/local/lib/python3.11/dist-packages (from tensorflow<3,>=2.13.0->tensorflowjs) (2.32.3)\r\n",
      "Requirement already satisfied: setuptools in /usr/local/lib/python3.11/dist-packages (from tensorflow<3,>=2.13.0->tensorflowjs) (75.2.0)\r\n",
      "Requirement already satisfied: termcolor>=1.1.0 in /usr/local/lib/python3.11/dist-packages (from tensorflow<3,>=2.13.0->tensorflowjs) (3.0.1)\r\n",
      "Requirement already satisfied: wrapt>=1.11.0 in /usr/local/lib/python3.11/dist-packages (from tensorflow<3,>=2.13.0->tensorflowjs) (1.17.2)\r\n",
      "Requirement already satisfied: grpcio<2.0,>=1.24.3 in /usr/local/lib/python3.11/dist-packages (from tensorflow<3,>=2.13.0->tensorflowjs) (1.72.0rc1)\r\n",
      "Requirement already satisfied: tensorboard<2.19,>=2.18 in /usr/local/lib/python3.11/dist-packages (from tensorflow<3,>=2.13.0->tensorflowjs) (2.18.0)\r\n",
      "Requirement already satisfied: keras>=3.5.0 in /usr/local/lib/python3.11/dist-packages (from tensorflow<3,>=2.13.0->tensorflowjs) (3.8.0)\r\n",
      "Requirement already satisfied: h5py>=3.11.0 in /usr/local/lib/python3.11/dist-packages (from tensorflow<3,>=2.13.0->tensorflowjs) (3.13.0)\r\n",
      "Requirement already satisfied: tensorflow-io-gcs-filesystem>=0.23.1 in /usr/local/lib/python3.11/dist-packages (from tensorflow<3,>=2.13.0->tensorflowjs) (0.37.1)\r\n",
      "Requirement already satisfied: pandas in /usr/local/lib/python3.11/dist-packages (from tensorflow-decision-forests>=1.5.0->tensorflowjs) (2.2.3)\r\n",
      "Requirement already satisfied: wheel in /usr/local/lib/python3.11/dist-packages (from tensorflow-decision-forests>=1.5.0->tensorflowjs) (0.45.1)\r\n",
      "Requirement already satisfied: wurlitzer in /usr/local/lib/python3.11/dist-packages (from tensorflow-decision-forests>=1.5.0->tensorflowjs) (3.1.1)\r\n",
      "Requirement already satisfied: ydf in /usr/local/lib/python3.11/dist-packages (from tensorflow-decision-forests>=1.5.0->tensorflowjs) (0.9.0)\r\n",
      "Requirement already satisfied: namex in /usr/local/lib/python3.11/dist-packages (from keras>=3.5.0->tensorflow<3,>=2.13.0->tensorflowjs) (0.0.8)\r\n",
      "Requirement already satisfied: optree in /usr/local/lib/python3.11/dist-packages (from keras>=3.5.0->tensorflow<3,>=2.13.0->tensorflowjs) (0.14.1)\r\n",
      "Requirement already satisfied: mkl_fft in /usr/local/lib/python3.11/dist-packages (from numpy>=1.23.2->flax>=0.7.2->tensorflowjs) (1.3.8)\r\n",
      "Requirement already satisfied: mkl_random in /usr/local/lib/python3.11/dist-packages (from numpy>=1.23.2->flax>=0.7.2->tensorflowjs) (1.2.4)\r\n",
      "Requirement already satisfied: mkl_umath in /usr/local/lib/python3.11/dist-packages (from numpy>=1.23.2->flax>=0.7.2->tensorflowjs) (0.1.1)\r\n",
      "Requirement already satisfied: mkl in /usr/local/lib/python3.11/dist-packages (from numpy>=1.23.2->flax>=0.7.2->tensorflowjs) (2025.1.0)\r\n",
      "Requirement already satisfied: tbb4py in /usr/local/lib/python3.11/dist-packages (from numpy>=1.23.2->flax>=0.7.2->tensorflowjs) (2022.1.0)\r\n",
      "Requirement already satisfied: mkl-service in /usr/local/lib/python3.11/dist-packages (from numpy>=1.23.2->flax>=0.7.2->tensorflowjs) (2.4.1)\r\n",
      "Requirement already satisfied: charset-normalizer<4,>=2 in /usr/local/lib/python3.11/dist-packages (from requests<3,>=2.21.0->tensorflow<3,>=2.13.0->tensorflowjs) (3.4.2)\r\n",
      "Requirement already satisfied: idna<4,>=2.5 in /usr/local/lib/python3.11/dist-packages (from requests<3,>=2.21.0->tensorflow<3,>=2.13.0->tensorflowjs) (3.10)\r\n",
      "Requirement already satisfied: urllib3<3,>=1.21.1 in /usr/local/lib/python3.11/dist-packages (from requests<3,>=2.21.0->tensorflow<3,>=2.13.0->tensorflowjs) (2.4.0)\r\n",
      "Requirement already satisfied: certifi>=2017.4.17 in /usr/local/lib/python3.11/dist-packages (from requests<3,>=2.21.0->tensorflow<3,>=2.13.0->tensorflowjs) (2025.4.26)\r\n",
      "Requirement already satisfied: markdown-it-py>=2.2.0 in /usr/local/lib/python3.11/dist-packages (from rich>=11.1->flax>=0.7.2->tensorflowjs) (3.0.0)\r\n",
      "Requirement already satisfied: pygments<3.0.0,>=2.13.0 in /usr/local/lib/python3.11/dist-packages (from rich>=11.1->flax>=0.7.2->tensorflowjs) (2.19.1)\r\n",
      "Requirement already satisfied: markdown>=2.6.8 in /usr/local/lib/python3.11/dist-packages (from tensorboard<2.19,>=2.18->tensorflow<3,>=2.13.0->tensorflowjs) (3.7)\r\n",
      "Requirement already satisfied: tensorboard-data-server<0.8.0,>=0.7.0 in /usr/local/lib/python3.11/dist-packages (from tensorboard<2.19,>=2.18->tensorflow<3,>=2.13.0->tensorflowjs) (0.7.2)\r\n",
      "Requirement already satisfied: werkzeug>=1.0.1 in /usr/local/lib/python3.11/dist-packages (from tensorboard<2.19,>=2.18->tensorflow<3,>=2.13.0->tensorflowjs) (3.1.3)\r\n",
      "Requirement already satisfied: chex>=0.1.87 in /usr/local/lib/python3.11/dist-packages (from optax->flax>=0.7.2->tensorflowjs) (0.1.89)\r\n",
      "Requirement already satisfied: etils[epy] in /usr/local/lib/python3.11/dist-packages (from optax->flax>=0.7.2->tensorflowjs) (1.12.2)\r\n",
      "Requirement already satisfied: nest_asyncio in /usr/local/lib/python3.11/dist-packages (from orbax-checkpoint->flax>=0.7.2->tensorflowjs) (1.6.0)\r\n",
      "Requirement already satisfied: humanize in /usr/local/lib/python3.11/dist-packages (from orbax-checkpoint->flax>=0.7.2->tensorflowjs) (4.12.2)\r\n",
      "Requirement already satisfied: simplejson>=3.16.0 in /usr/local/lib/python3.11/dist-packages (from orbax-checkpoint->flax>=0.7.2->tensorflowjs) (3.20.1)\r\n",
      "Requirement already satisfied: python-dateutil>=2.8.2 in /usr/local/lib/python3.11/dist-packages (from pandas->tensorflow-decision-forests>=1.5.0->tensorflowjs) (2.9.0.post0)\r\n",
      "Requirement already satisfied: pytz>=2020.1 in /usr/local/lib/python3.11/dist-packages (from pandas->tensorflow-decision-forests>=1.5.0->tensorflowjs) (2025.2)\r\n",
      "Requirement already satisfied: tzdata>=2022.7 in /usr/local/lib/python3.11/dist-packages (from pandas->tensorflow-decision-forests>=1.5.0->tensorflowjs) (2025.2)\r\n",
      "Requirement already satisfied: toolz>=0.9.0 in /usr/local/lib/python3.11/dist-packages (from chex>=0.1.87->optax->flax>=0.7.2->tensorflowjs) (1.0.0)\r\n",
      "Requirement already satisfied: mdurl~=0.1 in /usr/local/lib/python3.11/dist-packages (from markdown-it-py>=2.2.0->rich>=11.1->flax>=0.7.2->tensorflowjs) (0.1.2)\r\n",
      "Requirement already satisfied: MarkupSafe>=2.1.1 in /usr/local/lib/python3.11/dist-packages (from werkzeug>=1.0.1->tensorboard<2.19,>=2.18->tensorflow<3,>=2.13.0->tensorflowjs) (3.0.2)\r\n",
      "Requirement already satisfied: fsspec in /usr/local/lib/python3.11/dist-packages (from etils[epath,epy]->orbax-checkpoint->flax>=0.7.2->tensorflowjs) (2025.3.2)\r\n",
      "Requirement already satisfied: zipp in /usr/local/lib/python3.11/dist-packages (from etils[epath,epy]->orbax-checkpoint->flax>=0.7.2->tensorflowjs) (3.21.0)\r\n",
      "Requirement already satisfied: intel-openmp<2026,>=2024 in /usr/local/lib/python3.11/dist-packages (from mkl->numpy>=1.23.2->flax>=0.7.2->tensorflowjs) (2024.2.0)\r\n",
      "Requirement already satisfied: tbb==2022.* in /usr/local/lib/python3.11/dist-packages (from mkl->numpy>=1.23.2->flax>=0.7.2->tensorflowjs) (2022.1.0)\r\n",
      "Requirement already satisfied: tcmlib==1.* in /usr/local/lib/python3.11/dist-packages (from tbb==2022.*->mkl->numpy>=1.23.2->flax>=0.7.2->tensorflowjs) (1.3.0)\r\n",
      "Requirement already satisfied: intel-cmplr-lib-rt in /usr/local/lib/python3.11/dist-packages (from mkl_umath->numpy>=1.23.2->flax>=0.7.2->tensorflowjs) (2024.2.0)\r\n",
      "Requirement already satisfied: intel-cmplr-lib-ur==2024.2.0 in /usr/local/lib/python3.11/dist-packages (from intel-openmp<2026,>=2024->mkl->numpy>=1.23.2->flax>=0.7.2->tensorflowjs) (2024.2.0)\r\n",
      "Downloading tensorflowjs-4.22.0-py3-none-any.whl (89 kB)\r\n",
      "\u001b[2K   \u001b[90m━━━━━━━━━━━━━━━━━━━━━━━━━━━━━━━━━━━━━━━━\u001b[0m \u001b[32m89.1/89.1 kB\u001b[0m \u001b[31m3.0 MB/s\u001b[0m eta \u001b[36m0:00:00\u001b[0m\r\n",
      "\u001b[?25hDownloading packaging-23.2-py3-none-any.whl (53 kB)\r\n",
      "\u001b[2K   \u001b[90m━━━━━━━━━━━━━━━━━━━━━━━━━━━━━━━━━━━━━━━━\u001b[0m \u001b[32m53.0/53.0 kB\u001b[0m \u001b[31m2.6 MB/s\u001b[0m eta \u001b[36m0:00:00\u001b[0m\r\n",
      "\u001b[?25hInstalling collected packages: packaging, tensorflowjs\r\n",
      "  Attempting uninstall: packaging\r\n",
      "    Found existing installation: packaging 25.0\r\n",
      "    Uninstalling packaging-25.0:\r\n",
      "      Successfully uninstalled packaging-25.0\r\n",
      "\u001b[31mERROR: pip's dependency resolver does not currently take into account all the packages that are installed. This behaviour is the source of the following dependency conflicts.\r\n",
      "datasets 3.6.0 requires fsspec[http]<=2025.3.0,>=2023.1.0, but you have fsspec 2025.3.2 which is incompatible.\r\n",
      "cesium 0.12.4 requires numpy<3.0,>=2.0, but you have numpy 1.26.4 which is incompatible.\r\n",
      "bigframes 1.42.0 requires rich<14,>=12.4.4, but you have rich 14.0.0 which is incompatible.\r\n",
      "plotnine 0.14.5 requires matplotlib>=3.8.0, but you have matplotlib 3.7.2 which is incompatible.\r\n",
      "pandas-gbq 0.28.0 requires google-api-core<3.0.0dev,>=2.10.2, but you have google-api-core 1.34.1 which is incompatible.\r\n",
      "mlxtend 0.23.4 requires scikit-learn>=1.3.1, but you have scikit-learn 1.2.2 which is incompatible.\u001b[0m\u001b[31m\r\n",
      "\u001b[0mSuccessfully installed packaging-23.2 tensorflowjs-4.22.0\r\n"
     ]
    }
   ],
   "source": [
    "!pip install tensorflowjs"
   ]
  },
  {
   "cell_type": "code",
   "execution_count": 20,
   "id": "f40c2cfc",
   "metadata": {
    "execution": {
     "iopub.execute_input": "2025-05-24T06:06:11.783438Z",
     "iopub.status.busy": "2025-05-24T06:06:11.783087Z",
     "iopub.status.idle": "2025-05-24T06:06:24.482071Z",
     "shell.execute_reply": "2025-05-24T06:06:24.481131Z"
    },
    "papermill": {
     "duration": 12.973035,
     "end_time": "2025-05-24T06:06:24.483838",
     "exception": false,
     "start_time": "2025-05-24T06:06:11.510803",
     "status": "completed"
    },
    "scrolled": true,
    "tags": []
   },
   "outputs": [
    {
     "name": "stdout",
     "output_type": "stream",
     "text": [
      "2025-05-24 06:06:12.527705: E external/local_xla/xla/stream_executor/cuda/cuda_fft.cc:477] Unable to register cuFFT factory: Attempting to register factory for plugin cuFFT when one has already been registered\r\n",
      "WARNING: All log messages before absl::InitializeLog() is called are written to STDERR\r\n",
      "E0000 00:00:1748066772.550989     533 cuda_dnn.cc:8310] Unable to register cuDNN factory: Attempting to register factory for plugin cuDNN when one has already been registered\r\n",
      "E0000 00:00:1748066772.558193     533 cuda_blas.cc:1418] Unable to register cuBLAS factory: Attempting to register factory for plugin cuBLAS when one has already been registered\r\n",
      "\u001b[32m🌲 Try \u001b[0m\u001b[34mhttps://ydf.readthedocs.io\u001b[0m\u001b[32m, the successor of TensorFlow Decision Forests with more features and faster training!\u001b[0m\r\n",
      "I0000 00:00:1748066780.671335     533 gpu_device.cc:2022] Created device /job:localhost/replica:0/task:0/device:GPU:0 with 5602 MB memory:  -> device: 0, name: Tesla T4, pci bus id: 0000:00:04.0, compute capability: 7.5\r\n",
      "I0000 00:00:1748066780.672116     533 gpu_device.cc:2022] Created device /job:localhost/replica:0/task:0/device:GPU:1 with 13842 MB memory:  -> device: 1, name: Tesla T4, pci bus id: 0000:00:05.0, compute capability: 7.5\r\n",
      "Traceback (most recent call last):\r\n",
      "  File \"/usr/local/bin/tensorflowjs_converter\", line 8, in <module>\r\n",
      "    sys.exit(pip_main())\r\n",
      "             ^^^^^^^^^^\r\n",
      "  File \"/usr/local/lib/python3.11/dist-packages/tensorflowjs/converters/converter.py\", line 959, in pip_main\r\n",
      "    main([' '.join(sys.argv[1:])])\r\n",
      "  File \"/usr/local/lib/python3.11/dist-packages/tensorflowjs/converters/converter.py\", line 963, in main\r\n",
      "    convert(argv[0].split(' '))\r\n",
      "  File \"/usr/local/lib/python3.11/dist-packages/tensorflowjs/converters/converter.py\", line 949, in convert\r\n",
      "    _dispatch_converter(input_format, output_format, args, quantization_dtype_map,\r\n",
      "  File \"/usr/local/lib/python3.11/dist-packages/tensorflowjs/converters/converter.py\", line 635, in _dispatch_converter\r\n",
      "    dispatch_keras_h5_to_tfjs_graph_model_conversion(\r\n",
      "  File \"/usr/local/lib/python3.11/dist-packages/tensorflowjs/converters/converter.py\", line 227, in dispatch_keras_h5_to_tfjs_graph_model_conversion\r\n",
      "    model = tf_keras.models.load_model(h5_path, compile=False)\r\n",
      "            ^^^^^^^^^^^^^^^^^^^^^^^^^^^^^^^^^^^^^^^^^^^^^^^^^^\r\n",
      "  File \"/usr/local/lib/python3.11/dist-packages/tf_keras/src/saving/saving_api.py\", line 262, in load_model\r\n",
      "    return legacy_sm_saving_lib.load_model(\r\n",
      "           ^^^^^^^^^^^^^^^^^^^^^^^^^^^^^^^^\r\n",
      "  File \"/usr/local/lib/python3.11/dist-packages/tf_keras/src/utils/traceback_utils.py\", line 70, in error_handler\r\n",
      "    raise e.with_traceback(filtered_tb) from None\r\n",
      "  File \"/usr/local/lib/python3.11/dist-packages/tf_keras/src/engine/base_layer.py\", line 863, in from_config\r\n",
      "    raise TypeError(\r\n",
      "TypeError: Error when deserializing class 'InputLayer' using config={'batch_shape': [None, 64, 64, 3], 'dtype': 'float32', 'sparse': False, 'name': 'input_layer_1'}.\r\n",
      "\r\n",
      "Exception encountered: Unrecognized keyword arguments: ['batch_shape']\r\n"
     ]
    }
   ],
   "source": [
    "!tensorflowjs_converter \\\n",
    "    --input_format=keras \\\n",
    "    --output_format=tfjs_graph_model \\\n",
    "    mobilenet_best_model.h5 \\\n",
    "    tfjs_model/\n"
   ]
  }
 ],
 "metadata": {
  "kaggle": {
   "accelerator": "nvidiaTeslaT4",
   "dataSources": [
    {
     "datasetId": 23079,
     "sourceId": 29550,
     "sourceType": "datasetVersion"
    }
   ],
   "dockerImageVersionId": 31041,
   "isGpuEnabled": true,
   "isInternetEnabled": true,
   "language": "python",
   "sourceType": "notebook"
  },
  "kernelspec": {
   "display_name": "Python 3",
   "language": "python",
   "name": "python3"
  },
  "language_info": {
   "codemirror_mode": {
    "name": "ipython",
    "version": 3
   },
   "file_extension": ".py",
   "mimetype": "text/x-python",
   "name": "python",
   "nbconvert_exporter": "python",
   "pygments_lexer": "ipython3",
   "version": "3.11.11"
  },
  "papermill": {
   "default_parameters": {},
   "duration": 1328.985325,
   "end_time": "2025-05-24T06:06:28.158545",
   "environment_variables": {},
   "exception": null,
   "input_path": "__notebook__.ipynb",
   "output_path": "__notebook__.ipynb",
   "parameters": {},
   "start_time": "2025-05-24T05:44:19.173220",
   "version": "2.6.0"
  }
 },
 "nbformat": 4,
 "nbformat_minor": 5
}
